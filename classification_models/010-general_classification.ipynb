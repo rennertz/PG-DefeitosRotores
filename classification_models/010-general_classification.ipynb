{
 "cells": [
  {
   "cell_type": "code",
   "execution_count": 1,
   "metadata": {},
   "outputs": [
    {
     "name": "stdout",
     "output_type": "stream",
     "text": [
      "<class 'pandas.core.frame.DataFrame'>\n",
      "RangeIndex: 880 entries, 0 to 879\n",
      "Columns: 110 entries, condicao to tg2_freqstat_rvf\n",
      "dtypes: float64(109), object(1)\n",
      "memory usage: 756.4+ KB\n"
     ]
    }
   ],
   "source": [
    "import pandas as pd\n",
    "import numpy as np\n",
    "import matplotlib.pyplot as plt\n",
    "import seaborn as sns\n",
    "\n",
    "sns.set_theme()\n",
    "sns.set_context(font_scale=1.5)\n",
    "\n",
    "df = pd.read_csv('../data/data.csv')\n",
    "\n",
    "# remove informações que não são extraídas dos sinais de vibração\n",
    "df.pop('rotacao_manual')\n",
    "df.pop('severidade')\n",
    "\n",
    "# exibe lista de características\n",
    "df.info()"
   ]
  },
  {
   "cell_type": "code",
   "execution_count": 2,
   "metadata": {},
   "outputs": [
    {
     "data": {
      "text/html": [
       "<div>\n",
       "<style scoped>\n",
       "    .dataframe tbody tr th:only-of-type {\n",
       "        vertical-align: middle;\n",
       "    }\n",
       "\n",
       "    .dataframe tbody tr th {\n",
       "        vertical-align: top;\n",
       "    }\n",
       "\n",
       "    .dataframe thead th {\n",
       "        text-align: right;\n",
       "    }\n",
       "</style>\n",
       "<table border=\"1\" class=\"dataframe\">\n",
       "  <thead>\n",
       "    <tr style=\"text-align: right;\">\n",
       "      <th></th>\n",
       "      <th>condicao</th>\n",
       "      <th>rotacao_calc</th>\n",
       "      <th>ax1_1h</th>\n",
       "      <th>ax2_1h</th>\n",
       "      <th>rad1_1h</th>\n",
       "      <th>rad2_1h</th>\n",
       "      <th>tg1_1h</th>\n",
       "      <th>tg2_1h</th>\n",
       "      <th>ax1_2h</th>\n",
       "      <th>ax2_2h</th>\n",
       "      <th>...</th>\n",
       "      <th>rad1_freqstat_rmsf</th>\n",
       "      <th>rad2_freqstat_rmsf</th>\n",
       "      <th>tg1_freqstat_rmsf</th>\n",
       "      <th>tg2_freqstat_rmsf</th>\n",
       "      <th>ax1_freqstat_rvf</th>\n",
       "      <th>ax2_freqstat_rvf</th>\n",
       "      <th>rad1_freqstat_rvf</th>\n",
       "      <th>rad2_freqstat_rvf</th>\n",
       "      <th>tg1_freqstat_rvf</th>\n",
       "      <th>tg2_freqstat_rvf</th>\n",
       "    </tr>\n",
       "  </thead>\n",
       "  <tbody>\n",
       "    <tr>\n",
       "      <th>0</th>\n",
       "      <td>horizontal-misalignment</td>\n",
       "      <td>12.0</td>\n",
       "      <td>0.078738</td>\n",
       "      <td>0.221200</td>\n",
       "      <td>0.006654</td>\n",
       "      <td>0.019212</td>\n",
       "      <td>0.002920</td>\n",
       "      <td>0.056890</td>\n",
       "      <td>0.015030</td>\n",
       "      <td>0.051852</td>\n",
       "      <td>...</td>\n",
       "      <td>994.441946</td>\n",
       "      <td>576.555280</td>\n",
       "      <td>1146.711087</td>\n",
       "      <td>720.417244</td>\n",
       "      <td>553.609683</td>\n",
       "      <td>366.108650</td>\n",
       "      <td>617.152712</td>\n",
       "      <td>475.548155</td>\n",
       "      <td>653.008680</td>\n",
       "      <td>582.086450</td>\n",
       "    </tr>\n",
       "    <tr>\n",
       "      <th>1</th>\n",
       "      <td>horizontal-misalignment</td>\n",
       "      <td>13.2</td>\n",
       "      <td>0.080740</td>\n",
       "      <td>0.226949</td>\n",
       "      <td>0.010259</td>\n",
       "      <td>0.010828</td>\n",
       "      <td>0.002189</td>\n",
       "      <td>0.059922</td>\n",
       "      <td>0.006250</td>\n",
       "      <td>0.083294</td>\n",
       "      <td>...</td>\n",
       "      <td>1071.699216</td>\n",
       "      <td>791.330286</td>\n",
       "      <td>1214.296423</td>\n",
       "      <td>825.388438</td>\n",
       "      <td>598.586959</td>\n",
       "      <td>435.130994</td>\n",
       "      <td>623.781488</td>\n",
       "      <td>575.895638</td>\n",
       "      <td>644.675030</td>\n",
       "      <td>628.811947</td>\n",
       "    </tr>\n",
       "    <tr>\n",
       "      <th>2</th>\n",
       "      <td>horizontal-misalignment</td>\n",
       "      <td>14.2</td>\n",
       "      <td>0.092599</td>\n",
       "      <td>0.269559</td>\n",
       "      <td>0.010088</td>\n",
       "      <td>0.012567</td>\n",
       "      <td>0.001595</td>\n",
       "      <td>0.070374</td>\n",
       "      <td>0.003847</td>\n",
       "      <td>0.100166</td>\n",
       "      <td>...</td>\n",
       "      <td>1113.749232</td>\n",
       "      <td>805.047072</td>\n",
       "      <td>1248.203488</td>\n",
       "      <td>889.080494</td>\n",
       "      <td>597.309366</td>\n",
       "      <td>434.144046</td>\n",
       "      <td>630.732462</td>\n",
       "      <td>578.373297</td>\n",
       "      <td>652.096296</td>\n",
       "      <td>654.005133</td>\n",
       "    </tr>\n",
       "    <tr>\n",
       "      <th>3</th>\n",
       "      <td>horizontal-misalignment</td>\n",
       "      <td>15.0</td>\n",
       "      <td>0.073945</td>\n",
       "      <td>0.261036</td>\n",
       "      <td>0.008649</td>\n",
       "      <td>0.012625</td>\n",
       "      <td>0.000961</td>\n",
       "      <td>0.061899</td>\n",
       "      <td>0.000689</td>\n",
       "      <td>0.076679</td>\n",
       "      <td>...</td>\n",
       "      <td>1116.381663</td>\n",
       "      <td>790.421021</td>\n",
       "      <td>1244.203292</td>\n",
       "      <td>895.672662</td>\n",
       "      <td>622.084462</td>\n",
       "      <td>429.322300</td>\n",
       "      <td>630.038256</td>\n",
       "      <td>573.347981</td>\n",
       "      <td>650.900267</td>\n",
       "      <td>657.516078</td>\n",
       "    </tr>\n",
       "    <tr>\n",
       "      <th>4</th>\n",
       "      <td>horizontal-misalignment</td>\n",
       "      <td>16.0</td>\n",
       "      <td>0.073207</td>\n",
       "      <td>0.298825</td>\n",
       "      <td>0.007493</td>\n",
       "      <td>0.015577</td>\n",
       "      <td>0.000483</td>\n",
       "      <td>0.070782</td>\n",
       "      <td>0.003335</td>\n",
       "      <td>0.078485</td>\n",
       "      <td>...</td>\n",
       "      <td>1146.744941</td>\n",
       "      <td>799.007171</td>\n",
       "      <td>1273.947865</td>\n",
       "      <td>951.543416</td>\n",
       "      <td>633.147946</td>\n",
       "      <td>460.930434</td>\n",
       "      <td>631.262211</td>\n",
       "      <td>578.856662</td>\n",
       "      <td>649.055371</td>\n",
       "      <td>684.909251</td>\n",
       "    </tr>\n",
       "  </tbody>\n",
       "</table>\n",
       "<p>5 rows × 110 columns</p>\n",
       "</div>"
      ],
      "text/plain": [
       "                  condicao  rotacao_calc    ax1_1h    ax2_1h   rad1_1h  \\\n",
       "0  horizontal-misalignment          12.0  0.078738  0.221200  0.006654   \n",
       "1  horizontal-misalignment          13.2  0.080740  0.226949  0.010259   \n",
       "2  horizontal-misalignment          14.2  0.092599  0.269559  0.010088   \n",
       "3  horizontal-misalignment          15.0  0.073945  0.261036  0.008649   \n",
       "4  horizontal-misalignment          16.0  0.073207  0.298825  0.007493   \n",
       "\n",
       "    rad2_1h    tg1_1h    tg2_1h    ax1_2h    ax2_2h  ...  rad1_freqstat_rmsf  \\\n",
       "0  0.019212  0.002920  0.056890  0.015030  0.051852  ...          994.441946   \n",
       "1  0.010828  0.002189  0.059922  0.006250  0.083294  ...         1071.699216   \n",
       "2  0.012567  0.001595  0.070374  0.003847  0.100166  ...         1113.749232   \n",
       "3  0.012625  0.000961  0.061899  0.000689  0.076679  ...         1116.381663   \n",
       "4  0.015577  0.000483  0.070782  0.003335  0.078485  ...         1146.744941   \n",
       "\n",
       "   rad2_freqstat_rmsf  tg1_freqstat_rmsf  tg2_freqstat_rmsf  ax1_freqstat_rvf  \\\n",
       "0          576.555280        1146.711087         720.417244        553.609683   \n",
       "1          791.330286        1214.296423         825.388438        598.586959   \n",
       "2          805.047072        1248.203488         889.080494        597.309366   \n",
       "3          790.421021        1244.203292         895.672662        622.084462   \n",
       "4          799.007171        1273.947865         951.543416        633.147946   \n",
       "\n",
       "   ax2_freqstat_rvf  rad1_freqstat_rvf  rad2_freqstat_rvf  tg1_freqstat_rvf  \\\n",
       "0        366.108650         617.152712         475.548155        653.008680   \n",
       "1        435.130994         623.781488         575.895638        644.675030   \n",
       "2        434.144046         630.732462         578.373297        652.096296   \n",
       "3        429.322300         630.038256         573.347981        650.900267   \n",
       "4        460.930434         631.262211         578.856662        649.055371   \n",
       "\n",
       "   tg2_freqstat_rvf  \n",
       "0        582.086450  \n",
       "1        628.811947  \n",
       "2        654.005133  \n",
       "3        657.516078  \n",
       "4        684.909251  \n",
       "\n",
       "[5 rows x 110 columns]"
      ]
     },
     "execution_count": 2,
     "metadata": {},
     "output_type": "execute_result"
    }
   ],
   "source": [
    "# exibe porção dos dados\n",
    "df.head()"
   ]
  },
  {
   "cell_type": "code",
   "execution_count": 3,
   "metadata": {},
   "outputs": [
    {
     "data": {
      "image/png": "[encoded data removed]",
      "text/plain": [
       "<Figure size 648x216 with 1 Axes>"
      ]
     },
     "metadata": {},
     "output_type": "display_data"
    }
   ],
   "source": [
    "# plota distribuição da população\n",
    "sns.catplot(data=df, y='condicao', kind=\"count\", height=3, aspect=3)\n",
    "plt.title('Frequência da população', fontsize=16)\n",
    "plt.ylabel('Condicão')\n",
    "plt.xlabel('contagem')\n",
    "plt.show()"
   ]
  },
  {
   "cell_type": "code",
   "execution_count": 4,
   "metadata": {},
   "outputs": [],
   "source": [
    "output_map = {\n",
    "    'normal': 0,\n",
    "    'imbalance': 1,\n",
    "    'vertical-misalignment': 2,\n",
    "    'horizontal-misalignment': 3,\n",
    "}\n",
    "output_remap = {v: k for k, v in output_map.items()}\n",
    "\n",
    "# armazena output em um array\n",
    "labels = np.array(df['condicao'].map(output_map))\n",
    "\n",
    "# remove a coluna de labels do df original\n",
    "df = df.drop('condicao', axis = 1)"
   ]
  },
  {
   "cell_type": "code",
   "execution_count": 5,
   "metadata": {},
   "outputs": [],
   "source": [
    "columns = list(df.columns)\n",
    "feat_type = {\n",
    "    'harmonico 1': [col for col in columns if '1h'    in col],\n",
    "    'harmonico 2': [col for col in columns if '2h'    in col],\n",
    "    'harmonico 3': [col for col in columns if '3h'    in col],\n",
    "    'harmonicos':  [col for col in columns if '1h'    in col or '2h' in col or '3h' in col],\n",
    "    'entropia':    [col for col in columns if 'entr'  in col],\n",
    "    'curtose':     [col for col in columns if 'kurt'  in col[-4:]],\n",
    "    'RMS':         [col for col in columns if 'timestat_rms' in col],\n",
    "    'estat_tempo': [col for col in columns if 'timestat'  in col],\n",
    "    'estat_freq':  [col for col in columns if 'freqstat'  in col],\n",
    "    'estatisticos':[col for col in columns if 'stat'  in col],\n",
    "    'fase':        [col for col in columns if 'phase' in col[-5:]],\n",
    "}\n",
    "\n",
    "df_encoded_angles = pd.concat([\n",
    "    df[feat_type['fase']].apply(np.sin).rename(columns = lambda x: x+'_sin'), \n",
    "    df[feat_type['fase']].apply(np.cos).rename(columns = lambda x: x+'_cos'),\n",
    "], axis=1)\n",
    "df = pd.concat([df, df_encoded_angles], axis=1)\n",
    "\n",
    "columns = list(df.columns)\n",
    "feat_type['fase_cos'] = [col for col in columns if 'phase_sin' in col or 'phase_cos' in col]"
   ]
  },
  {
   "cell_type": "markdown",
   "metadata": {},
   "source": [
    "## Modelos"
   ]
  },
  {
   "cell_type": "markdown",
   "metadata": {},
   "source": [
    "### Por Tipo de característica"
   ]
  },
  {
   "cell_type": "code",
   "execution_count": 6,
   "metadata": {},
   "outputs": [
    {
     "name": "stdout",
     "output_type": "stream",
     "text": [
      "Ângulos de fase com 7 características\n",
      "Seno e cosseno da fase com 13 características\n",
      "Harmônicas com 19 características\n",
      "Harmônicas e s. c. da fase com 31 características\n",
      "RMS com 7 características\n",
      "RMS, Entropia e curtose com 19 características\n",
      "Estatísticas no tempo com 67 características\n",
      "Estatísticas na frequência com 19 características\n",
      "Estatísticas gerais com 85 características\n",
      "Todas com 115 características\n"
     ]
    }
   ],
   "source": [
    "feature_models = {\n",
    "    ('Espectro', 'Ângulos de fase'):               list(feat_type['fase']+[]),\n",
    "    ('Espectro', 'Seno e cosseno da fase'):        list(feat_type['fase_cos']),\n",
    "    ('Espectro', 'Harmônicas'):                    list(feat_type['harmonicos']),\n",
    "    ('Espectro', 'Harmônicas e s. c. da fase'):    list(feat_type['harmonicos'] + feat_type['fase_cos']),\n",
    "    ('Estatístico', 'RMS'):                        list(feat_type['RMS']),\n",
    "    ('Estatístico', 'RMS, Entropia e curtose'):    list(feat_type['RMS'] + feat_type['entropia'] + feat_type['curtose']),\n",
    "    ('Estatístico', 'Estatísticas no tempo'):      list(feat_type['estat_tempo']),\n",
    "    ('Estatístico', 'Estatísticas na frequência'): list(feat_type['estat_freq']),\n",
    "    ('Estatístico', 'Estatísticas gerais'):        list(feat_type['estatisticos']),\n",
    "    ('', 'Todas'):                                 list(df.columns)\n",
    "}\n",
    "\n",
    "for k, v in feature_models.items():\n",
    "    if k[1] != 'Todas':\n",
    "        v.append('rotacao_calc')\n",
    "\n",
    "for col in feat_type['fase']:\n",
    "    feature_models[('', 'Todas')].remove(col)\n",
    "\n",
    "feature_models_data = {k: df[v] for k, v in feature_models.items() }\n",
    "\n",
    "for k, v in feature_models_data.items():\n",
    "    print(f'{k[1]} com {v.shape[1]} características')"
   ]
  },
  {
   "cell_type": "code",
   "execution_count": 7,
   "metadata": {},
   "outputs": [],
   "source": [
    "from sklearn.model_selection import KFold, cross_val_score, cross_val_predict, GroupKFold, StratifiedKFold, cross_validate\n",
    "from sklearn.pipeline import make_pipeline\n",
    "from sklearn.preprocessing import StandardScaler\n",
    "from sklearn.svm import SVC, LinearSVC\n",
    "\n",
    "acc_list = []\n",
    "# roc_auc_list = []\n",
    "RS = 42\n",
    "\n",
    "kfold = KFold(n_splits=8, shuffle=True, random_state=RS)\n",
    "\n",
    "# SCV com one-vs-one\n",
    "# clf = make_pipeline(StandardScaler(), SVC(kernel='linear', class_weight='balanced', probability=True, random_state=RS))\n",
    "# clf_prob = make_pipeline(StandardScaler(), SVC(kernel='linear', probability=True, class_weight='balanced', random_state=RS))\n",
    "\n",
    "# linearSCV com one-vs-all\n",
    "clf = make_pipeline(StandardScaler(), LinearSVC(class_weight='balanced', random_state=RS, max_iter=1e4))\n",
    "clf_prob = make_pipeline(StandardScaler(), LinearSVC(class_weight='balanced', random_state=RS, max_iter=1e4))\n",
    "\n",
    "for data in feature_models_data.values():\n",
    "    evaluation = cross_validate(\n",
    "        estimator= clf,\n",
    "        X=data.values, y=labels,\n",
    "        cv=kfold,\n",
    "        scoring=['accuracy'])\n",
    "    \n",
    "    acc_list.append(evaluation['test_accuracy'])\n",
    "#     roc_auc_list.append(evaluation['test_roc_auc_ovr'])"
   ]
  },
  {
   "cell_type": "code",
   "execution_count": 8,
   "metadata": {},
   "outputs": [
    {
     "name": "stdout",
     "output_type": "stream",
     "text": [
      "\\begin{tabular}{llrl}\n",
      "\\toprule\n",
      "            &       &   Nº &       Acurácia \\\\\n",
      "Tipo & Características &      &                \\\\\n",
      "\\midrule\n",
      "Espectro & Ângulos de fase &    7 &  0,724 ± 0,048 \\\\\n",
      "            & Seno e cosseno da fase &   13 &  0,843 ± 0,024 \\\\\n",
      "            & Harmônicas &   19 &  0,933 ± 0,012 \\\\\n",
      "            & Harmônicas e s. c. da fase &   31 &  0,961 ± 0,016 \\\\\n",
      "Estatístico & RMS &    7 &  0,781 ± 0,032 \\\\\n",
      "            & RMS, Entropia e curtose &   19 &  0,907 ± 0,024 \\\\\n",
      "            & Estatísticas no tempo &   67 &  0,963 ± 0,012 \\\\\n",
      "            & Estatísticas na frequência &   19 &  0,972 ± 0,016 \\\\\n",
      "            & Estatísticas gerais &   85 &  0,994 ± 0,006 \\\\\n",
      "            & Todas &  115 &  0,994 ± 0,006 \\\\\n",
      "\\bottomrule\n",
      "\\end{tabular}\n",
      "\n"
     ]
    },
    {
     "data": {
      "text/html": [
       "<div>\n",
       "<style scoped>\n",
       "    .dataframe tbody tr th:only-of-type {\n",
       "        vertical-align: middle;\n",
       "    }\n",
       "\n",
       "    .dataframe tbody tr th {\n",
       "        vertical-align: top;\n",
       "    }\n",
       "\n",
       "    .dataframe thead th {\n",
       "        text-align: right;\n",
       "    }\n",
       "</style>\n",
       "<table border=\"1\" class=\"dataframe\">\n",
       "  <thead>\n",
       "    <tr style=\"text-align: right;\">\n",
       "      <th></th>\n",
       "      <th></th>\n",
       "      <th>Nº</th>\n",
       "      <th>Acurácia</th>\n",
       "    </tr>\n",
       "    <tr>\n",
       "      <th>Tipo</th>\n",
       "      <th>Características</th>\n",
       "      <th></th>\n",
       "      <th></th>\n",
       "    </tr>\n",
       "  </thead>\n",
       "  <tbody>\n",
       "    <tr>\n",
       "      <th rowspan=\"4\" valign=\"top\">Espectro</th>\n",
       "      <th>Ângulos de fase</th>\n",
       "      <td>7</td>\n",
       "      <td>0,724 ± 0,048</td>\n",
       "    </tr>\n",
       "    <tr>\n",
       "      <th>Seno e cosseno da fase</th>\n",
       "      <td>13</td>\n",
       "      <td>0,843 ± 0,024</td>\n",
       "    </tr>\n",
       "    <tr>\n",
       "      <th>Harmônicas</th>\n",
       "      <td>19</td>\n",
       "      <td>0,933 ± 0,012</td>\n",
       "    </tr>\n",
       "    <tr>\n",
       "      <th>Harmônicas e s. c. da fase</th>\n",
       "      <td>31</td>\n",
       "      <td>0,961 ± 0,016</td>\n",
       "    </tr>\n",
       "    <tr>\n",
       "      <th rowspan=\"5\" valign=\"top\">Estatístico</th>\n",
       "      <th>RMS</th>\n",
       "      <td>7</td>\n",
       "      <td>0,781 ± 0,032</td>\n",
       "    </tr>\n",
       "    <tr>\n",
       "      <th>RMS, Entropia e curtose</th>\n",
       "      <td>19</td>\n",
       "      <td>0,907 ± 0,024</td>\n",
       "    </tr>\n",
       "    <tr>\n",
       "      <th>Estatísticas no tempo</th>\n",
       "      <td>67</td>\n",
       "      <td>0,963 ± 0,012</td>\n",
       "    </tr>\n",
       "    <tr>\n",
       "      <th>Estatísticas na frequência</th>\n",
       "      <td>19</td>\n",
       "      <td>0,972 ± 0,016</td>\n",
       "    </tr>\n",
       "    <tr>\n",
       "      <th>Estatísticas gerais</th>\n",
       "      <td>85</td>\n",
       "      <td>0,994 ± 0,006</td>\n",
       "    </tr>\n",
       "    <tr>\n",
       "      <th></th>\n",
       "      <th>Todas</th>\n",
       "      <td>115</td>\n",
       "      <td>0,994 ± 0,006</td>\n",
       "    </tr>\n",
       "  </tbody>\n",
       "</table>\n",
       "</div>"
      ],
      "text/plain": [
       "                                         Nº       Acurácia\n",
       "Tipo        Características                               \n",
       "Espectro    Ângulos de fase               7  0,724 ± 0,048\n",
       "            Seno e cosseno da fase       13  0,843 ± 0,024\n",
       "            Harmônicas                   19  0,933 ± 0,012\n",
       "            Harmônicas e s. c. da fase   31  0,961 ± 0,016\n",
       "Estatístico RMS                           7  0,781 ± 0,032\n",
       "            RMS, Entropia e curtose      19  0,907 ± 0,024\n",
       "            Estatísticas no tempo        67  0,963 ± 0,012\n",
       "            Estatísticas na frequência   19  0,972 ± 0,016\n",
       "            Estatísticas gerais          85  0,994 ± 0,006\n",
       "            Todas                       115  0,994 ± 0,006"
      ]
     },
     "execution_count": 8,
     "metadata": {},
     "output_type": "execute_result"
    }
   ],
   "source": [
    "index = pd.MultiIndex.from_tuples(feature_models.keys(), names=['Tipo', 'Características'])\n",
    "results = pd.DataFrame({\n",
    "    'Nº': [v.shape[1] for v in feature_models_data.values()],\n",
    "    'Acurácia': [f'{acc.mean():.3f} ± {acc.std():.3f}'.replace('.',',') for acc in acc_list],\n",
    "}, index=index)\n",
    "\n",
    "print(results.to_latex())\n",
    "results"
   ]
  },
  {
   "cell_type": "code",
   "execution_count": 9,
   "metadata": {},
   "outputs": [
    {
     "data": {
      "image/png": "[encoded data removed]",
      "text/plain": [
       "<Figure size 648x288 with 1 Axes>"
      ]
     },
     "metadata": {},
     "output_type": "display_data"
    }
   ],
   "source": [
    "names = [k[1] for k in feature_models.keys()]\n",
    "\n",
    "fig, ax = plt.subplots(figsize=(9,4))\n",
    "bplot1 = ax.boxplot(acc_list, labels=names, patch_artist=True)\n",
    "ax.set_ylabel(\"Acurácia\")\n",
    "\n",
    "colors = ['C0']*4 + ['C1']*5 + ['C2']\n",
    "\n",
    "for patch, color in zip(bplot1['boxes'], colors):\n",
    "        patch.set_facecolor(color)\n",
    "\n",
    "for label in ax.get_xmajorticklabels():\n",
    "    label.set_rotation(30)\n",
    "    label.set_horizontalalignment(\"right\")\n",
    "    label.set_size(14)\n",
    "\n",
    "plt.savefig('../redacao/figuras/acc_caracteristicas.pdf', bbox_inches='tight')\n",
    "plt.tight_layout()"
   ]
  },
  {
   "cell_type": "code",
   "execution_count": 18,
   "metadata": {},
   "outputs": [
    {
     "data": {
      "image/png": "[encoded data removed]",
      "text/plain": [
       "<Figure size 648x288 with 1 Axes>"
      ]
     },
     "metadata": {},
     "output_type": "display_data"
    }
   ],
   "source": [
    "names = [k[1] for k in feature_models.keys()]\n",
    "\n",
    "fig, ax = plt.subplots(figsize=(9,4))\n",
    "bplot1 = ax.boxplot(acc_list[:4], labels=names[:4], patch_artist=True, vert=False)\n",
    "ax.set_xlabel(\"Acurácia\", size=16)\n",
    "\n",
    "colors = ['C0']*4\n",
    "\n",
    "for patch, color in zip(bplot1['boxes'], colors):\n",
    "        patch.set_facecolor(color)\n",
    "\n",
    "for label in ax.get_ymajorticklabels():\n",
    "    label.set_size(16)\n",
    "for label in ax.get_xmajorticklabels():\n",
    "    label.set_size(16)\n",
    "\n",
    "plt.tight_layout()"
   ]
  },
  {
   "cell_type": "code",
   "execution_count": 20,
   "metadata": {},
   "outputs": [
    {
     "data": {
      "image/png": "[encoded data removed]",
      "text/plain": [
       "<Figure size 648x288 with 1 Axes>"
      ]
     },
     "metadata": {},
     "output_type": "display_data"
    }
   ],
   "source": [
    "names = [k[1] for k in feature_models.keys()]\n",
    "\n",
    "fig, ax = plt.subplots(figsize=(9,4))\n",
    "bplot1 = ax.boxplot(acc_list[4:-1], labels=names[4:-1], patch_artist=True, vert=False)\n",
    "ax.set_xlabel(\"Acurácia\", size=16)\n",
    "\n",
    "colors = ['C1']*5\n",
    "\n",
    "for patch, color in zip(bplot1['boxes'], colors):\n",
    "        patch.set_facecolor(color)\n",
    "\n",
    "for label in ax.get_ymajorticklabels():\n",
    "    label.set_size(16)\n",
    "for label in ax.get_xmajorticklabels():\n",
    "    label.set_size(16)\n",
    "\n",
    "plt.tight_layout()"
   ]
  },
  {
   "cell_type": "markdown",
   "metadata": {},
   "source": [
    "### Por eixo"
   ]
  },
  {
   "cell_type": "code",
   "execution_count": 21,
   "metadata": {},
   "outputs": [
    {
     "name": "stdout",
     "output_type": "stream",
     "text": [
      "Axial 1 com 20 características\n",
      "Axial 2 com 20 características\n",
      "Axial duplo com 39 características\n",
      "Radial 1 com 20 características\n",
      "Radial 2 com 20 características\n",
      "Radial duplo com 39 características\n",
      "Tangente 1 com 20 características\n",
      "Tangente 2 com 20 características\n",
      "Tangente duplo com 39 características\n",
      "Mancal 1 triax. com 58 características\n",
      "Mancal 2 triax. com 58 características\n",
      "Todos os eixos com 115 características\n"
     ]
    }
   ],
   "source": [
    "df_eixos = df.drop(feat_type['fase'], axis=1)\n",
    "columns = list(df_eixos.columns)\n",
    "columns.remove('rotacao_calc')\n",
    "\n",
    "eixos = {\n",
    "    'Axial 1':     [col for col in columns if 'ax1' in col],\n",
    "    'Axial 2':     [col for col in columns if 'ax2' in col],\n",
    "    'Axial duplo':       [col for col in columns if 'ax1' in col or 'ax2' in col],\n",
    "    'Radial 1':    [col for col in columns if 'rad1' in col],    \n",
    "    'Radial 2':    [col for col in columns if 'rad2' in col],\n",
    "    'Radial duplo':      [col for col in columns if 'rad' in col],\n",
    "    'Tangente 1':  [col for col in columns if 'tg1' in col],\n",
    "    'Tangente 2':  [col for col in columns if 'tg2' in col],\n",
    "    'Tangente duplo':    [col for col in columns if 'tg' in col],\n",
    "    'Mancal 1 triax.':    [col for col in columns if '1_' in col],\n",
    "    'Mancal 2 triax.':    [col for col in columns if '2_' in col],\n",
    "    'Todos os eixos': columns\n",
    "}\n",
    "\n",
    "{k: v.append('rotacao_calc') for k, v in eixos.items()}\n",
    "\n",
    "for k, v in eixos.items():\n",
    "    print(f'{k} com {len(v)} características')"
   ]
  },
  {
   "cell_type": "code",
   "execution_count": 22,
   "metadata": {},
   "outputs": [
    {
     "name": "stdout",
     "output_type": "stream",
     "text": [
      "\\begin{tabular}{ll}\n",
      "\\toprule\n",
      "{} &       Acurácia \\\\\n",
      "\\midrule\n",
      "Axial 1         &  0,852 ± 0,024 \\\\\n",
      "Axial 2         &  0,869 ± 0,028 \\\\\n",
      "Axial duplo     &  0,956 ± 0,018 \\\\\n",
      "Radial 1        &  0,889 ± 0,023 \\\\\n",
      "Radial 2        &  0,830 ± 0,027 \\\\\n",
      "Radial duplo    &  0,986 ± 0,010 \\\\\n",
      "Tangente 1      &  0,823 ± 0,039 \\\\\n",
      "Tangente 2      &  0,887 ± 0,016 \\\\\n",
      "Tangente duplo  &  0,943 ± 0,019 \\\\\n",
      "Mancal 1 triax. &  0,989 ± 0,008 \\\\\n",
      "Mancal 2 triax. &  0,970 ± 0,016 \\\\\n",
      "Todos os eixos  &  0,993 ± 0,008 \\\\\n",
      "\\bottomrule\n",
      "\\end{tabular}\n",
      "\n"
     ]
    },
    {
     "data": {
      "text/html": [
       "<div>\n",
       "<style scoped>\n",
       "    .dataframe tbody tr th:only-of-type {\n",
       "        vertical-align: middle;\n",
       "    }\n",
       "\n",
       "    .dataframe tbody tr th {\n",
       "        vertical-align: top;\n",
       "    }\n",
       "\n",
       "    .dataframe thead th {\n",
       "        text-align: right;\n",
       "    }\n",
       "</style>\n",
       "<table border=\"1\" class=\"dataframe\">\n",
       "  <thead>\n",
       "    <tr style=\"text-align: right;\">\n",
       "      <th></th>\n",
       "      <th>Acurácia</th>\n",
       "    </tr>\n",
       "  </thead>\n",
       "  <tbody>\n",
       "    <tr>\n",
       "      <th>Axial 1</th>\n",
       "      <td>0,852 ± 0,024</td>\n",
       "    </tr>\n",
       "    <tr>\n",
       "      <th>Axial 2</th>\n",
       "      <td>0,869 ± 0,028</td>\n",
       "    </tr>\n",
       "    <tr>\n",
       "      <th>Axial duplo</th>\n",
       "      <td>0,956 ± 0,018</td>\n",
       "    </tr>\n",
       "    <tr>\n",
       "      <th>Radial 1</th>\n",
       "      <td>0,889 ± 0,023</td>\n",
       "    </tr>\n",
       "    <tr>\n",
       "      <th>Radial 2</th>\n",
       "      <td>0,830 ± 0,027</td>\n",
       "    </tr>\n",
       "    <tr>\n",
       "      <th>Radial duplo</th>\n",
       "      <td>0,986 ± 0,010</td>\n",
       "    </tr>\n",
       "    <tr>\n",
       "      <th>Tangente 1</th>\n",
       "      <td>0,823 ± 0,039</td>\n",
       "    </tr>\n",
       "    <tr>\n",
       "      <th>Tangente 2</th>\n",
       "      <td>0,887 ± 0,016</td>\n",
       "    </tr>\n",
       "    <tr>\n",
       "      <th>Tangente duplo</th>\n",
       "      <td>0,943 ± 0,019</td>\n",
       "    </tr>\n",
       "    <tr>\n",
       "      <th>Mancal 1 triax.</th>\n",
       "      <td>0,989 ± 0,008</td>\n",
       "    </tr>\n",
       "    <tr>\n",
       "      <th>Mancal 2 triax.</th>\n",
       "      <td>0,970 ± 0,016</td>\n",
       "    </tr>\n",
       "    <tr>\n",
       "      <th>Todos os eixos</th>\n",
       "      <td>0,993 ± 0,008</td>\n",
       "    </tr>\n",
       "  </tbody>\n",
       "</table>\n",
       "</div>"
      ],
      "text/plain": [
       "                      Acurácia\n",
       "Axial 1          0,852 ± 0,024\n",
       "Axial 2          0,869 ± 0,028\n",
       "Axial duplo      0,956 ± 0,018\n",
       "Radial 1         0,889 ± 0,023\n",
       "Radial 2         0,830 ± 0,027\n",
       "Radial duplo     0,986 ± 0,010\n",
       "Tangente 1       0,823 ± 0,039\n",
       "Tangente 2       0,887 ± 0,016\n",
       "Tangente duplo   0,943 ± 0,019\n",
       "Mancal 1 triax.  0,989 ± 0,008\n",
       "Mancal 2 triax.  0,970 ± 0,016\n",
       "Todos os eixos   0,993 ± 0,008"
      ]
     },
     "execution_count": 22,
     "metadata": {},
     "output_type": "execute_result"
    }
   ],
   "source": [
    "feature_models_eixos = {k: df_eixos[v] for k, v in eixos.items()}\n",
    "\n",
    "acc_list = []\n",
    "\n",
    "clf = make_pipeline(StandardScaler(), SVC(kernel='linear'))\n",
    "\n",
    "for data in feature_models_eixos.values():\n",
    "    evaluation = cross_validate(\n",
    "        estimator= clf,\n",
    "        X=data.values, y=labels,\n",
    "        cv=kfold,\n",
    "        scoring=['accuracy'])\n",
    "    \n",
    "    acc_list.append(evaluation['test_accuracy'])\n",
    "\n",
    "results = pd.DataFrame({\n",
    "    'Acurácia': [f'{acc.mean():.3f} ± {acc.std():.3f}'.replace('.',',') for acc in acc_list],\n",
    "    }, index=eixos)\n",
    "\n",
    "print(results.to_latex())\n",
    "results"
   ]
  },
  {
   "cell_type": "code",
   "execution_count": 23,
   "metadata": {},
   "outputs": [
    {
     "data": {
      "image/png": "[encoded data removed]",
      "text/plain": [
       "<Figure size 648x288 with 1 Axes>"
      ]
     },
     "metadata": {},
     "output_type": "display_data"
    }
   ],
   "source": [
    "names = list(eixos.keys())\n",
    "\n",
    "fig, ax = plt.subplots(figsize=(9,4))\n",
    "bplot1 = ax.boxplot(acc_list, labels=names, patch_artist=True)\n",
    "ax.set_ylabel(\"Acurácia\")\n",
    "\n",
    "colors = ['C0']*2 + ['C1']*1 + ['C0']*2 + ['C1']*1 + ['C0']*2 + ['C1']*1 + ['C2']*3\n",
    "\n",
    "for patch, color in zip(bplot1['boxes'], colors):\n",
    "        patch.set_facecolor(color)\n",
    "\n",
    "for label in ax.get_xmajorticklabels():\n",
    "    label.set_rotation(30)\n",
    "    label.set_horizontalalignment(\"right\")\n",
    "    label.set_size(14)\n",
    "\n",
    "# plt.savefig('../redacao/figuras/acc_eixos.pdf', bbox_inches='tight')\n",
    "plt.tight_layout()"
   ]
  },
  {
   "cell_type": "code",
   "execution_count": 24,
   "metadata": {},
   "outputs": [
    {
     "name": "stdout",
     "output_type": "stream",
     "text": [
      "Original\n",
      " ['Axial 1', 'Axial 2', 'Axial duplo', 'Radial 1', 'Radial 2', 'Radial duplo', 'Tangente 1', 'Tangente 2', 'Tangente duplo', 'Mancal 1 triax.', 'Mancal 2 triax.', 'Todos os eixos']\n",
      "\n",
      "Reordenado\n",
      " ['Axial 1', 'Radial 1', 'Tangente 1', 'Mancal 1 triax.', 'Axial 2', 'Radial 2', 'Tangente 2', 'Mancal 2 triax.', 'Axial duplo', 'Radial duplo', 'Tangente duplo', 'Todos os eixos']\n"
     ]
    }
   ],
   "source": [
    "names = list(eixos.keys())\n",
    "sort = [0,3,6,9,1,4,7,10,2,5,8,11]\n",
    "print('Original\\n', names)\n",
    "print('\\nReordenado\\n', [names[i] for i in sort])"
   ]
  },
  {
   "cell_type": "code",
   "execution_count": 30,
   "metadata": {},
   "outputs": [
    {
     "data": {
      "image/png": "[encoded data removed]",
      "text/plain": [
       "<Figure size 648x288 with 1 Axes>"
      ]
     },
     "metadata": {},
     "output_type": "display_data"
    }
   ],
   "source": [
    "sorted_names = [names[i] for i in sort]\n",
    "sorted_acc_list = [acc_list[i] for i in sort]\n",
    "\n",
    "fig, ax = plt.subplots(figsize=(9,4))\n",
    "bplot1 = ax.boxplot(sorted_acc_list, labels=sorted_names, patch_artist=True)\n",
    "ax.set_ylabel(\"Acurácia\")\n",
    "\n",
    "\n",
    "colors = ['C0']*3 + ['C1']*1 + ['C0']*3 + ['C1']*1 + ['C2']*3 + ['C3']*1\n",
    "\n",
    "for patch, color in zip(bplot1['boxes'], colors):\n",
    "        patch.set_facecolor(color)\n",
    "\n",
    "for label in ax.get_xmajorticklabels():\n",
    "    label.set_rotation(30)\n",
    "    label.set_horizontalalignment(\"right\")\n",
    "    label.set_size(14)\n",
    "\n",
    "plt.savefig('../redacao/figuras/acc_eixos.pdf', bbox_inches='tight')\n",
    "plt.tight_layout()"
   ]
  },
  {
   "cell_type": "code",
   "execution_count": 27,
   "metadata": {},
   "outputs": [
    {
     "data": {
      "image/png": "[encoded data removed]",
      "text/plain": [
       "<Figure size 648x288 with 1 Axes>"
      ]
     },
     "metadata": {},
     "output_type": "display_data"
    }
   ],
   "source": [
    "sorted_names = [names[i] for i in sort]\n",
    "sorted_acc_list = [acc_list[i] for i in sort]\n",
    "\n",
    "fig, ax = plt.subplots(figsize=(9,4))\n",
    "bplot1 = ax.boxplot(sorted_acc_list[:4], labels=sorted_names[:4], patch_artist=True, vert=False)\n",
    "ax.set_xlabel(\"Acurácia\", size=16)\n",
    "\n",
    "\n",
    "colors = ['C0']*3 + ['C1']*1\n",
    "\n",
    "for patch, color in zip(bplot1['boxes'], colors):\n",
    "        patch.set_facecolor(color)\n",
    "\n",
    "for label in ax.get_ymajorticklabels():\n",
    "    label.set_size(16)\n",
    "for label in ax.get_xmajorticklabels():\n",
    "    label.set_size(16)\n",
    "\n",
    "# plt.savefig('../redacao/figuras/acc_eixos.pdf', bbox_inches='tight')\n",
    "plt.tight_layout()"
   ]
  },
  {
   "cell_type": "code",
   "execution_count": 31,
   "metadata": {},
   "outputs": [
    {
     "data": {
      "image/png": "[encoded data removed]",
      "text/plain": [
       "<Figure size 648x288 with 1 Axes>"
      ]
     },
     "metadata": {},
     "output_type": "display_data"
    }
   ],
   "source": [
    "sorted_names = [names[i] for i in sort]\n",
    "sorted_acc_list = [acc_list[i] for i in sort]\n",
    "\n",
    "fig, ax = plt.subplots(figsize=(9,4))\n",
    "bplot1 = ax.boxplot(sorted_acc_list[8:-1], labels=sorted_names[8:-1], patch_artist=True, vert=False)\n",
    "ax.set_xlabel(\"Acurácia\", size=16)\n",
    "\n",
    "\n",
    "colors = ['C2']*3\n",
    "\n",
    "for patch, color in zip(bplot1['boxes'], colors):\n",
    "        patch.set_facecolor(color)\n",
    "\n",
    "for label in ax.get_ymajorticklabels():\n",
    "    label.set_size(16)\n",
    "for label in ax.get_xmajorticklabels():\n",
    "    label.set_size(16)\n",
    "\n",
    "# plt.savefig('../redacao/figuras/acc_eixos.pdf', bbox_inches='tight')\n",
    "plt.tight_layout()"
   ]
  },
  {
   "cell_type": "code",
   "execution_count": 28,
   "metadata": {},
   "outputs": [
    {
     "data": {
      "image/png": "[encoded data removed]",
      "text/plain": [
       "<Figure size 648x288 with 1 Axes>"
      ]
     },
     "metadata": {},
     "output_type": "display_data"
    }
   ],
   "source": [
    "sorted_names = [names[i] for i in sort]\n",
    "sorted_acc_list = [acc_list[i] for i in sort]\n",
    "\n",
    "fig, ax = plt.subplots(figsize=(9,4))\n",
    "bplot1 = ax.boxplot(sorted_acc_list[4:8], labels=sorted_names[4:8], patch_artist=True, vert=False)\n",
    "ax.set_xlabel(\"Acurácia\", size=16)\n",
    "\n",
    "\n",
    "colors = ['C0']*3 + ['C1']*1\n",
    "\n",
    "for patch, color in zip(bplot1['boxes'], colors):\n",
    "        patch.set_facecolor(color)\n",
    "\n",
    "for label in ax.get_ymajorticklabels():\n",
    "    label.set_size(16)\n",
    "for label in ax.get_xmajorticklabels():\n",
    "    label.set_size(16)\n",
    "\n",
    "# plt.savefig('../redacao/figuras/acc_eixos.pdf', bbox_inches='tight')\n",
    "plt.tight_layout()"
   ]
  },
  {
   "cell_type": "markdown",
   "metadata": {},
   "source": [
    "### Por característica x eixo"
   ]
  },
  {
   "cell_type": "code",
   "execution_count": null,
   "metadata": {
    "jupyter": {
     "source_hidden": true
    }
   },
   "outputs": [],
   "source": [
    "eixos_principais = {\n",
    "    'Axial':       [col for col in columns if 'ax' in col],\n",
    "    'Radial':      [col for col in columns if 'rad' in col],\n",
    "    'Tangente':    [col for col in columns if 'tg' in col],\n",
    "}\n",
    "\n",
    "{k: v.append('rotacao_calc') for k, v in eixos_principais.items()}\n",
    "\n",
    "acc_mean = []\n",
    "acc_std = []\n",
    "\n",
    "clf = make_pipeline(StandardScaler(), SVC(kernel='linear'))\n",
    "\n",
    "i=0\n",
    "for feat_type in feature_models.values():\n",
    "    acc_mean.append([])\n",
    "    acc_std.append([])\n",
    "    for eixo in eixos_principais.values():\n",
    "        df_slice = list(set(feat_type) & set(eixo))\n",
    "        evaluation = cross_validate(\n",
    "            estimator=clf,\n",
    "            X=df[df_slice].values, y=labels,\n",
    "            cv=kfold,\n",
    "            scoring=['balanced_accuracy'])\n",
    "\n",
    "        acc_mean[i].append(evaluation['test_balanced_accuracy'].mean())\n",
    "        acc_std[i].append(evaluation['test_balanced_accuracy'].std())\n",
    "    i+=1"
   ]
  },
  {
   "cell_type": "code",
   "execution_count": null,
   "metadata": {
    "jupyter": {
     "source_hidden": true
    }
   },
   "outputs": [],
   "source": [
    "cross_results = pd.DataFrame(acc_mean, index=index, columns=eixos_principais.keys())\n",
    "# cross_results['Acurácia média'] = cross_results.mean(axis=1)\n",
    "cross_results"
   ]
  },
  {
   "cell_type": "markdown",
   "metadata": {},
   "source": [
    "### Train-Test split"
   ]
  },
  {
   "cell_type": "markdown",
   "metadata": {},
   "source": [
    "#### Espectro"
   ]
  },
  {
   "cell_type": "code",
   "execution_count": 168,
   "metadata": {},
   "outputs": [],
   "source": [
    "from sklearn.model_selection import train_test_split\n",
    "\n",
    "# separa os conjuntos de treino e teste com amostragem estratificada,\n",
    "# logo, mantendo a proporção para cada tipo de defeito\n",
    "X_train, X_test, y_train, y_test = train_test_split(feature_models_data[('Espectro', 'Harmônicas e s. c. da fase')], labels, test_size = 0.25, stratify=labels, random_state=42) \n",
    "\n",
    "clf.fit(X_train, y_train)\n",
    "y_predicted = clf.predict(X_test)"
   ]
  },
  {
   "cell_type": "code",
   "execution_count": 169,
   "metadata": {},
   "outputs": [
    {
     "name": "stdout",
     "output_type": "stream",
     "text": [
      "\\begin{tabular}{lrrrr}\n",
      "\\toprule\n",
      "Predito &  Normal &  Desbalanceamento &  Desal. Vertical &  Desal. Horizontal \\\\\n",
      "Real              &         &                   &                  &                    \\\\\n",
      "\\midrule\n",
      "Normal            &    91,7 &               0,0 &              0,0 &                8,3 \\\\\n",
      "Desbalanceamento  &     0,0 &             100,0 &              0,0 &                0,0 \\\\\n",
      "Desal. Vertical   &     0,0 &               0,0 &            100,0 &                0,0 \\\\\n",
      "Desal. Horizontal &     6,1 &               0,0 &              0,0 &               93,9 \\\\\n",
      "\\bottomrule\n",
      "\\end{tabular}\n",
      "\n"
     ]
    },
    {
     "data": {
      "text/html": [
       "<div>\n",
       "<style scoped>\n",
       "    .dataframe tbody tr th:only-of-type {\n",
       "        vertical-align: middle;\n",
       "    }\n",
       "\n",
       "    .dataframe tbody tr th {\n",
       "        vertical-align: top;\n",
       "    }\n",
       "\n",
       "    .dataframe thead th {\n",
       "        text-align: right;\n",
       "    }\n",
       "</style>\n",
       "<table border=\"1\" class=\"dataframe\">\n",
       "  <thead>\n",
       "    <tr style=\"text-align: right;\">\n",
       "      <th>Predito</th>\n",
       "      <th>Normal</th>\n",
       "      <th>Desbalanceamento</th>\n",
       "      <th>Desal. Vertical</th>\n",
       "      <th>Desal. Horizontal</th>\n",
       "    </tr>\n",
       "    <tr>\n",
       "      <th>Real</th>\n",
       "      <th></th>\n",
       "      <th></th>\n",
       "      <th></th>\n",
       "      <th></th>\n",
       "    </tr>\n",
       "  </thead>\n",
       "  <tbody>\n",
       "    <tr>\n",
       "      <th>Normal</th>\n",
       "      <td>91.666667</td>\n",
       "      <td>0.0</td>\n",
       "      <td>0.0</td>\n",
       "      <td>8.333333</td>\n",
       "    </tr>\n",
       "    <tr>\n",
       "      <th>Desbalanceamento</th>\n",
       "      <td>0.000000</td>\n",
       "      <td>100.0</td>\n",
       "      <td>0.0</td>\n",
       "      <td>0.000000</td>\n",
       "    </tr>\n",
       "    <tr>\n",
       "      <th>Desal. Vertical</th>\n",
       "      <td>0.000000</td>\n",
       "      <td>0.0</td>\n",
       "      <td>100.0</td>\n",
       "      <td>0.000000</td>\n",
       "    </tr>\n",
       "    <tr>\n",
       "      <th>Desal. Horizontal</th>\n",
       "      <td>6.122449</td>\n",
       "      <td>0.0</td>\n",
       "      <td>0.0</td>\n",
       "      <td>93.877551</td>\n",
       "    </tr>\n",
       "  </tbody>\n",
       "</table>\n",
       "</div>"
      ],
      "text/plain": [
       "Predito               Normal  Desbalanceamento  Desal. Vertical  \\\n",
       "Real                                                              \n",
       "Normal             91.666667               0.0              0.0   \n",
       "Desbalanceamento    0.000000             100.0              0.0   \n",
       "Desal. Vertical     0.000000               0.0            100.0   \n",
       "Desal. Horizontal   6.122449               0.0              0.0   \n",
       "\n",
       "Predito            Desal. Horizontal  \n",
       "Real                                  \n",
       "Normal                      8.333333  \n",
       "Desbalanceamento            0.000000  \n",
       "Desal. Vertical             0.000000  \n",
       "Desal. Horizontal          93.877551  "
      ]
     },
     "execution_count": 169,
     "metadata": {},
     "output_type": "execute_result"
    }
   ],
   "source": [
    "from sklearn.metrics import confusion_matrix, roc_curve, auc\n",
    "\n",
    "traducao = {\n",
    "    'normal': 'Normal',\n",
    "    'imbalance': 'Desbalanceamento',\n",
    "    'vertical-misalignment': 'Desal. Vertical',\n",
    "    'horizontal-misalignment': 'Desal. Horizontal',\n",
    "}\n",
    "\n",
    "condicoes = [traducao[k] for k in output_map.keys()]\n",
    "\n",
    "\n",
    "matrix = confusion_matrix(y_test, y_predicted, normalize='true')\n",
    "matrix_df = pd.DataFrame(matrix*100, index=condicoes, columns=condicoes).rename_axis(\"Real\").rename_axis(\"Predito\", axis=1)\n",
    "\n",
    "print(matrix_df.to_latex(float_format=\"%.1f\", decimal=','))\n",
    "matrix_df"
   ]
  },
  {
   "cell_type": "markdown",
   "metadata": {},
   "source": [
    "#### Estatísticas"
   ]
  },
  {
   "cell_type": "code",
   "execution_count": 170,
   "metadata": {},
   "outputs": [],
   "source": [
    "from sklearn.model_selection import train_test_split\n",
    "\n",
    "# separa os conjuntos de treino e teste com amostragem estratificada,\n",
    "# logo, mantendo a proporção para cada tipo de defeito\n",
    "X_train, X_test, y_train, y_test = train_test_split(feature_models_data[('Estatístico', 'Estatísticas gerais')], labels, test_size = 0.25, stratify=labels, random_state=42) \n",
    "\n",
    "clf.fit(X_train, y_train)\n",
    "y_predicted = clf.predict(X_test)"
   ]
  },
  {
   "cell_type": "code",
   "execution_count": 171,
   "metadata": {},
   "outputs": [
    {
     "name": "stdout",
     "output_type": "stream",
     "text": [
      "\\begin{tabular}{lrrrr}\n",
      "\\toprule\n",
      "{} &     0 &     1 &    2 &     3 \\\\\n",
      "\\midrule\n",
      "Normal            & 100,0 &   0,0 &  0,0 &   0,0 \\\\\n",
      "Desbalanceamento  &   0,0 & 100,0 &  0,0 &   0,0 \\\\\n",
      "Desal. Vertical   &   0,0 &   1,3 & 96,1 &   2,6 \\\\\n",
      "Desal. Horizontal &   0,0 &   0,0 &  0,0 & 100,0 \\\\\n",
      "\\bottomrule\n",
      "\\end{tabular}\n",
      "\n"
     ]
    },
    {
     "data": {
      "text/html": [
       "<div>\n",
       "<style scoped>\n",
       "    .dataframe tbody tr th:only-of-type {\n",
       "        vertical-align: middle;\n",
       "    }\n",
       "\n",
       "    .dataframe tbody tr th {\n",
       "        vertical-align: top;\n",
       "    }\n",
       "\n",
       "    .dataframe thead th {\n",
       "        text-align: right;\n",
       "    }\n",
       "</style>\n",
       "<table border=\"1\" class=\"dataframe\">\n",
       "  <thead>\n",
       "    <tr style=\"text-align: right;\">\n",
       "      <th></th>\n",
       "      <th>0</th>\n",
       "      <th>1</th>\n",
       "      <th>2</th>\n",
       "      <th>3</th>\n",
       "    </tr>\n",
       "  </thead>\n",
       "  <tbody>\n",
       "    <tr>\n",
       "      <th>Normal</th>\n",
       "      <td>100.0</td>\n",
       "      <td>0.000000</td>\n",
       "      <td>0.000000</td>\n",
       "      <td>0.000000</td>\n",
       "    </tr>\n",
       "    <tr>\n",
       "      <th>Desbalanceamento</th>\n",
       "      <td>0.0</td>\n",
       "      <td>100.000000</td>\n",
       "      <td>0.000000</td>\n",
       "      <td>0.000000</td>\n",
       "    </tr>\n",
       "    <tr>\n",
       "      <th>Desal. Vertical</th>\n",
       "      <td>0.0</td>\n",
       "      <td>1.315789</td>\n",
       "      <td>96.052632</td>\n",
       "      <td>2.631579</td>\n",
       "    </tr>\n",
       "    <tr>\n",
       "      <th>Desal. Horizontal</th>\n",
       "      <td>0.0</td>\n",
       "      <td>0.000000</td>\n",
       "      <td>0.000000</td>\n",
       "      <td>100.000000</td>\n",
       "    </tr>\n",
       "  </tbody>\n",
       "</table>\n",
       "</div>"
      ],
      "text/plain": [
       "                       0           1          2           3\n",
       "Normal             100.0    0.000000   0.000000    0.000000\n",
       "Desbalanceamento     0.0  100.000000   0.000000    0.000000\n",
       "Desal. Vertical      0.0    1.315789  96.052632    2.631579\n",
       "Desal. Horizontal    0.0    0.000000   0.000000  100.000000"
      ]
     },
     "execution_count": 171,
     "metadata": {},
     "output_type": "execute_result"
    }
   ],
   "source": [
    "from sklearn.metrics import confusion_matrix, roc_curve, auc\n",
    "\n",
    "traducao = {\n",
    "    'normal': 'Normal',\n",
    "    'imbalance': 'Desbalanceamento',\n",
    "    'vertical-misalignment': 'Desal. Vertical',\n",
    "    'horizontal-misalignment': 'Desal. Horizontal',\n",
    "}\n",
    "\n",
    "condicoes = [traducao[k] for k in output_map.keys()]\n",
    "\n",
    "\n",
    "matrix = confusion_matrix(y_test, y_predicted, normalize='true')\n",
    "matrix_df = pd.DataFrame(matrix*100, index=condicoes)\n",
    "\n",
    "print(matrix_df.to_latex(float_format=\"%.1f\", decimal=','))\n",
    "matrix_df"
   ]
  },
  {
   "cell_type": "markdown",
   "metadata": {},
   "source": [
    "#### Todas"
   ]
  },
  {
   "cell_type": "code",
   "execution_count": 172,
   "metadata": {},
   "outputs": [],
   "source": [
    "from sklearn.model_selection import train_test_split\n",
    "\n",
    "# separa os conjuntos de treino e teste com amostragem estratificada,\n",
    "# logo, mantendo a proporção para cada tipo de defeito\n",
    "X_train, X_test, y_train, y_test = train_test_split(feature_models_data[('', 'Todas')], labels, test_size = 0.25, stratify=labels, random_state=42) \n",
    "\n",
    "clf.fit(X_train, y_train)\n",
    "y_predicted = clf.predict(X_test)"
   ]
  },
  {
   "cell_type": "code",
   "execution_count": 173,
   "metadata": {},
   "outputs": [
    {
     "name": "stdout",
     "output_type": "stream",
     "text": [
      "\\begin{tabular}{lrrrr}\n",
      "\\toprule\n",
      "{} &     0 &     1 &    2 &     3 \\\\\n",
      "\\midrule\n",
      "Normal            & 100,0 &   0,0 &  0,0 &   0,0 \\\\\n",
      "Desbalanceamento  &   0,0 & 100,0 &  0,0 &   0,0 \\\\\n",
      "Desal. Vertical   &   1,3 &   0,0 & 97,4 &   1,3 \\\\\n",
      "Desal. Horizontal &   0,0 &   0,0 &  0,0 & 100,0 \\\\\n",
      "\\bottomrule\n",
      "\\end{tabular}\n",
      "\n"
     ]
    },
    {
     "data": {
      "text/html": [
       "<div>\n",
       "<style scoped>\n",
       "    .dataframe tbody tr th:only-of-type {\n",
       "        vertical-align: middle;\n",
       "    }\n",
       "\n",
       "    .dataframe tbody tr th {\n",
       "        vertical-align: top;\n",
       "    }\n",
       "\n",
       "    .dataframe thead th {\n",
       "        text-align: right;\n",
       "    }\n",
       "</style>\n",
       "<table border=\"1\" class=\"dataframe\">\n",
       "  <thead>\n",
       "    <tr style=\"text-align: right;\">\n",
       "      <th></th>\n",
       "      <th>0</th>\n",
       "      <th>1</th>\n",
       "      <th>2</th>\n",
       "      <th>3</th>\n",
       "    </tr>\n",
       "  </thead>\n",
       "  <tbody>\n",
       "    <tr>\n",
       "      <th>Normal</th>\n",
       "      <td>100.000000</td>\n",
       "      <td>0.0</td>\n",
       "      <td>0.000000</td>\n",
       "      <td>0.000000</td>\n",
       "    </tr>\n",
       "    <tr>\n",
       "      <th>Desbalanceamento</th>\n",
       "      <td>0.000000</td>\n",
       "      <td>100.0</td>\n",
       "      <td>0.000000</td>\n",
       "      <td>0.000000</td>\n",
       "    </tr>\n",
       "    <tr>\n",
       "      <th>Desal. Vertical</th>\n",
       "      <td>1.315789</td>\n",
       "      <td>0.0</td>\n",
       "      <td>97.368421</td>\n",
       "      <td>1.315789</td>\n",
       "    </tr>\n",
       "    <tr>\n",
       "      <th>Desal. Horizontal</th>\n",
       "      <td>0.000000</td>\n",
       "      <td>0.0</td>\n",
       "      <td>0.000000</td>\n",
       "      <td>100.000000</td>\n",
       "    </tr>\n",
       "  </tbody>\n",
       "</table>\n",
       "</div>"
      ],
      "text/plain": [
       "                            0      1          2           3\n",
       "Normal             100.000000    0.0   0.000000    0.000000\n",
       "Desbalanceamento     0.000000  100.0   0.000000    0.000000\n",
       "Desal. Vertical      1.315789    0.0  97.368421    1.315789\n",
       "Desal. Horizontal    0.000000    0.0   0.000000  100.000000"
      ]
     },
     "execution_count": 173,
     "metadata": {},
     "output_type": "execute_result"
    }
   ],
   "source": [
    "from sklearn.metrics import confusion_matrix, roc_curve, auc\n",
    "\n",
    "traducao = {\n",
    "    'normal': 'Normal',\n",
    "    'imbalance': 'Desbalanceamento',\n",
    "    'vertical-misalignment': 'Desal. Vertical',\n",
    "    'horizontal-misalignment': 'Desal. Horizontal',\n",
    "}\n",
    "\n",
    "condicoes = [traducao[k] for k in output_map.keys()]\n",
    "\n",
    "\n",
    "matrix = confusion_matrix(y_test, y_predicted, normalize='true')\n",
    "matrix_df = pd.DataFrame(matrix*100, index=condicoes)\n",
    "\n",
    "print(matrix_df.to_latex(float_format=\"%.1f\", decimal=','))\n",
    "matrix_df"
   ]
  },
  {
   "cell_type": "markdown",
   "metadata": {},
   "source": [
    "#### Triaxial, mancal 1"
   ]
  },
  {
   "cell_type": "code",
   "execution_count": 174,
   "metadata": {},
   "outputs": [],
   "source": [
    "from sklearn.model_selection import train_test_split\n",
    "\n",
    "# separa os conjuntos de treino e teste com amostragem estratificada,\n",
    "# logo, mantendo a proporção para cada tipo de defeito\n",
    "X_train, X_test, y_train, y_test = train_test_split(feature_models_eixos['Mancal 1 triax.'], labels, test_size = 0.25, stratify=labels, random_state=42) \n",
    "\n",
    "clf.fit(X_train, y_train)\n",
    "y_predicted = clf.predict(X_test)"
   ]
  },
  {
   "cell_type": "code",
   "execution_count": 175,
   "metadata": {},
   "outputs": [
    {
     "name": "stdout",
     "output_type": "stream",
     "text": [
      "\\begin{tabular}{lrrrr}\n",
      "\\toprule\n",
      "{} &     0 &     1 &    2 &    3 \\\\\n",
      "\\midrule\n",
      "Normal            & 100,0 &   0,0 &  0,0 &  0,0 \\\\\n",
      "Desbalanceamento  &   0,0 & 100,0 &  0,0 &  0,0 \\\\\n",
      "Desal. Vertical   &   0,0 &   0,0 & 98,7 &  1,3 \\\\\n",
      "Desal. Horizontal &   0,0 &   2,0 &  6,1 & 91,8 \\\\\n",
      "\\bottomrule\n",
      "\\end{tabular}\n",
      "\n"
     ]
    },
    {
     "data": {
      "text/html": [
       "<div>\n",
       "<style scoped>\n",
       "    .dataframe tbody tr th:only-of-type {\n",
       "        vertical-align: middle;\n",
       "    }\n",
       "\n",
       "    .dataframe tbody tr th {\n",
       "        vertical-align: top;\n",
       "    }\n",
       "\n",
       "    .dataframe thead th {\n",
       "        text-align: right;\n",
       "    }\n",
       "</style>\n",
       "<table border=\"1\" class=\"dataframe\">\n",
       "  <thead>\n",
       "    <tr style=\"text-align: right;\">\n",
       "      <th></th>\n",
       "      <th>0</th>\n",
       "      <th>1</th>\n",
       "      <th>2</th>\n",
       "      <th>3</th>\n",
       "    </tr>\n",
       "  </thead>\n",
       "  <tbody>\n",
       "    <tr>\n",
       "      <th>Normal</th>\n",
       "      <td>100.0</td>\n",
       "      <td>0.000000</td>\n",
       "      <td>0.000000</td>\n",
       "      <td>0.000000</td>\n",
       "    </tr>\n",
       "    <tr>\n",
       "      <th>Desbalanceamento</th>\n",
       "      <td>0.0</td>\n",
       "      <td>100.000000</td>\n",
       "      <td>0.000000</td>\n",
       "      <td>0.000000</td>\n",
       "    </tr>\n",
       "    <tr>\n",
       "      <th>Desal. Vertical</th>\n",
       "      <td>0.0</td>\n",
       "      <td>0.000000</td>\n",
       "      <td>98.684211</td>\n",
       "      <td>1.315789</td>\n",
       "    </tr>\n",
       "    <tr>\n",
       "      <th>Desal. Horizontal</th>\n",
       "      <td>0.0</td>\n",
       "      <td>2.040816</td>\n",
       "      <td>6.122449</td>\n",
       "      <td>91.836735</td>\n",
       "    </tr>\n",
       "  </tbody>\n",
       "</table>\n",
       "</div>"
      ],
      "text/plain": [
       "                       0           1          2          3\n",
       "Normal             100.0    0.000000   0.000000   0.000000\n",
       "Desbalanceamento     0.0  100.000000   0.000000   0.000000\n",
       "Desal. Vertical      0.0    0.000000  98.684211   1.315789\n",
       "Desal. Horizontal    0.0    2.040816   6.122449  91.836735"
      ]
     },
     "execution_count": 175,
     "metadata": {},
     "output_type": "execute_result"
    }
   ],
   "source": [
    "from sklearn.metrics import confusion_matrix, roc_curve, auc\n",
    "\n",
    "traducao = {\n",
    "    'normal': 'Normal',\n",
    "    'imbalance': 'Desbalanceamento',\n",
    "    'vertical-misalignment': 'Desal. Vertical',\n",
    "    'horizontal-misalignment': 'Desal. Horizontal',\n",
    "}\n",
    "\n",
    "condicoes = [traducao[k] for k in output_map.keys()]\n",
    "\n",
    "\n",
    "matrix = confusion_matrix(y_test, y_predicted, normalize='true')\n",
    "matrix_df = pd.DataFrame(matrix*100, index=condicoes)\n",
    "\n",
    "print(matrix_df.to_latex(float_format=\"%.1f\", decimal=','))\n",
    "matrix_df"
   ]
  },
  {
   "cell_type": "markdown",
   "metadata": {},
   "source": [
    "#### Par de mancais radiais"
   ]
  },
  {
   "cell_type": "code",
   "execution_count": 176,
   "metadata": {},
   "outputs": [],
   "source": [
    "from sklearn.model_selection import train_test_split\n",
    "\n",
    "# separa os conjuntos de treino e teste com amostragem estratificada,\n",
    "# logo, mantendo a proporção para cada tipo de defeito\n",
    "X_train, X_test, y_train, y_test = train_test_split(feature_models_eixos['Radial duplo'], labels, test_size = 0.25, stratify=labels, random_state=42) \n",
    "\n",
    "clf.fit(X_train, y_train)\n",
    "y_predicted = clf.predict(X_test)"
   ]
  },
  {
   "cell_type": "code",
   "execution_count": 177,
   "metadata": {},
   "outputs": [
    {
     "name": "stdout",
     "output_type": "stream",
     "text": [
      "\\begin{tabular}{lrrrr}\n",
      "\\toprule\n",
      "{} &     0 &    1 &    2 &    3 \\\\\n",
      "\\midrule\n",
      "Normal            & 100,0 &  0,0 &  0,0 &  0,0 \\\\\n",
      "Desbalanceamento  &   0,0 & 98,8 &  1,2 &  0,0 \\\\\n",
      "Desal. Vertical   &   1,3 &  1,3 & 96,1 &  1,3 \\\\\n",
      "Desal. Horizontal &   2,0 &  0,0 &  0,0 & 98,0 \\\\\n",
      "\\bottomrule\n",
      "\\end{tabular}\n",
      "\n"
     ]
    },
    {
     "data": {
      "text/html": [
       "<div>\n",
       "<style scoped>\n",
       "    .dataframe tbody tr th:only-of-type {\n",
       "        vertical-align: middle;\n",
       "    }\n",
       "\n",
       "    .dataframe tbody tr th {\n",
       "        vertical-align: top;\n",
       "    }\n",
       "\n",
       "    .dataframe thead th {\n",
       "        text-align: right;\n",
       "    }\n",
       "</style>\n",
       "<table border=\"1\" class=\"dataframe\">\n",
       "  <thead>\n",
       "    <tr style=\"text-align: right;\">\n",
       "      <th></th>\n",
       "      <th>0</th>\n",
       "      <th>1</th>\n",
       "      <th>2</th>\n",
       "      <th>3</th>\n",
       "    </tr>\n",
       "  </thead>\n",
       "  <tbody>\n",
       "    <tr>\n",
       "      <th>Normal</th>\n",
       "      <td>100.000000</td>\n",
       "      <td>0.000000</td>\n",
       "      <td>0.000000</td>\n",
       "      <td>0.000000</td>\n",
       "    </tr>\n",
       "    <tr>\n",
       "      <th>Desbalanceamento</th>\n",
       "      <td>0.000000</td>\n",
       "      <td>98.795181</td>\n",
       "      <td>1.204819</td>\n",
       "      <td>0.000000</td>\n",
       "    </tr>\n",
       "    <tr>\n",
       "      <th>Desal. Vertical</th>\n",
       "      <td>1.315789</td>\n",
       "      <td>1.315789</td>\n",
       "      <td>96.052632</td>\n",
       "      <td>1.315789</td>\n",
       "    </tr>\n",
       "    <tr>\n",
       "      <th>Desal. Horizontal</th>\n",
       "      <td>2.040816</td>\n",
       "      <td>0.000000</td>\n",
       "      <td>0.000000</td>\n",
       "      <td>97.959184</td>\n",
       "    </tr>\n",
       "  </tbody>\n",
       "</table>\n",
       "</div>"
      ],
      "text/plain": [
       "                            0          1          2          3\n",
       "Normal             100.000000   0.000000   0.000000   0.000000\n",
       "Desbalanceamento     0.000000  98.795181   1.204819   0.000000\n",
       "Desal. Vertical      1.315789   1.315789  96.052632   1.315789\n",
       "Desal. Horizontal    2.040816   0.000000   0.000000  97.959184"
      ]
     },
     "execution_count": 177,
     "metadata": {},
     "output_type": "execute_result"
    }
   ],
   "source": [
    "from sklearn.metrics import confusion_matrix, roc_curve, auc\n",
    "\n",
    "traducao = {\n",
    "    'normal': 'Normal',\n",
    "    'imbalance': 'Desbalanceamento',\n",
    "    'vertical-misalignment': 'Desal. Vertical',\n",
    "    'horizontal-misalignment': 'Desal. Horizontal',\n",
    "}\n",
    "\n",
    "condicoes = [traducao[k] for k in output_map.keys()]\n",
    "\n",
    "\n",
    "matrix = confusion_matrix(y_test, y_predicted, normalize='true')\n",
    "matrix_df = pd.DataFrame(matrix*100, index=condicoes)\n",
    "\n",
    "print(matrix_df.to_latex(float_format=\"%.1f\", decimal=','))\n",
    "matrix_df"
   ]
  },
  {
   "cell_type": "markdown",
   "metadata": {},
   "source": [
    "### Curva ROC"
   ]
  },
  {
   "cell_type": "code",
   "execution_count": null,
   "metadata": {},
   "outputs": [],
   "source": [
    "from sklearn.preprocessing import label_binarize\n",
    "\n",
    "y = label_binarize(y_test, classes=[0, 1, 2, 3])\n",
    "n_classes = 4\n",
    "\n",
    "# Compute ROC curve and ROC area for each class\n",
    "y_score = clf.decision_function(X_test)\n",
    "fpr = dict()\n",
    "tpr = dict()\n",
    "roc_auc = dict()\n",
    "for i in range(4):\n",
    "    fpr[i], tpr[i], _ = roc_curve(y[:, i], y_score[:, i])\n",
    "    roc_auc[i] = auc(fpr[i], tpr[i])\n",
    "\n",
    "# Compute micro-average ROC curve and ROC area\n",
    "fpr[\"micro\"], tpr[\"micro\"], _ = roc_curve(y.ravel(), y_score.ravel())\n",
    "roc_auc[\"micro\"] = auc(fpr[\"micro\"], tpr[\"micro\"])\n",
    "# First aggregate all false positive rates\n",
    "all_fpr = np.unique(np.concatenate([fpr[i] for i in range(n_classes)]))\n",
    "\n",
    "# Then interpolate all ROC curves at this points\n",
    "mean_tpr = np.zeros_like(all_fpr)\n",
    "for i in range(n_classes):\n",
    "    mean_tpr += np.interp(all_fpr, fpr[i], tpr[i])\n",
    "\n",
    "# Finally average it and compute AUC\n",
    "mean_tpr /= n_classes\n",
    "\n",
    "fpr[\"macro\"] = all_fpr\n",
    "tpr[\"macro\"] = mean_tpr\n",
    "roc_auc[\"macro\"] = auc(fpr[\"macro\"], tpr[\"macro\"])\n",
    "\n",
    "# Plot all ROC curves\n",
    "plt.figure(figsize=(5,5))\n",
    "plt.plot(fpr[\"micro\"], tpr[\"micro\"],\n",
    "         label='micro-average ROC curve (area = {0:0.2f})'\n",
    "               ''.format(roc_auc[\"micro\"]),\n",
    "         color='blue')\n",
    "\n",
    "plt.plot(fpr[\"macro\"], tpr[\"macro\"],\n",
    "         label='macro-average ROC curve (area = {0:0.2f})'\n",
    "               ''.format(roc_auc[\"macro\"]),\n",
    "         color='darkorange')\n",
    "\n",
    "plt.plot([0, 1], [0, 1], 'k--', lw=1)\n",
    "plt.xlim([0.0, 1.0])\n",
    "plt.ylim([0.0, 1.05])\n",
    "plt.xlabel('False Positive Rate')\n",
    "plt.ylabel('True Positive Rate')\n",
    "plt.title('Some extension of Receiver operating characteristic to multi-class')\n",
    "plt.legend(loc=\"lower right\")\n",
    "plt.show()"
   ]
  },
  {
   "cell_type": "markdown",
   "metadata": {},
   "source": [
    "## Seleção de características"
   ]
  },
  {
   "cell_type": "markdown",
   "metadata": {},
   "source": [
    "### SFS"
   ]
  },
  {
   "cell_type": "code",
   "execution_count": null,
   "metadata": {},
   "outputs": [],
   "source": [
    "# método guloso, demora DIAS para computar\n",
    "from sklearn.feature_selection import SequentialFeatureSelector\n",
    "\n",
    "sfs = SequentialFeatureSelector(estimator=clf, cv=kfold,\n",
    "              scoring='accuracy', n_features_to_select=2)\n",
    "sfs.fit(df, labels)\n",
    "df.columns[sfs.support_]"
   ]
  },
  {
   "cell_type": "markdown",
   "metadata": {},
   "source": [
    "### K-Best\n",
    "Estatística univariada baseada em: chi2, f_classif, mutual_info_classif"
   ]
  },
  {
   "cell_type": "code",
   "execution_count": null,
   "metadata": {},
   "outputs": [],
   "source": [
    "from sklearn.feature_selection import SelectKBest, f_classif\n",
    "\n",
    "min_features_to_select = 1  # Minimum number of features to consider\n",
    "\n",
    "kbest = SelectKBest(score_func=f_classif , k='all')\n",
    "kbest.fit(df, labels)\n",
    "\n",
    "sorted_features = pd.Series(kbest.scores_, index=df.columns).sort_values(ascending=False)\n",
    "sorted_features[:20]"
   ]
  },
  {
   "cell_type": "code",
   "execution_count": null,
   "metadata": {},
   "outputs": [],
   "source": [
    "X = pd.DataFrame()\n",
    "scores_list = []\n",
    "for feature in sorted_features.index:\n",
    "    X = pd.concat([X, df[feature]], axis=1)\n",
    "    scores = cross_val_score(clf, X, labels, scoring='accuracy', cv=kfold)\n",
    "    scores_list.append(scores)\n",
    "    "
   ]
  },
  {
   "cell_type": "code",
   "execution_count": null,
   "metadata": {},
   "outputs": [],
   "source": [
    "scores_df = pd.DataFrame(scores_list)\n",
    "# scores_df['feature'] = sorted_features.index\n",
    "scores_df = scores_df.reset_index().melt(id_vars='index')\n",
    "scores_df\n",
    "sns.relplot(data=scores_df, x='index', y='value', kind='line', aspect=2)"
   ]
  },
  {
   "cell_type": "markdown",
   "metadata": {},
   "source": [
    "## Interpretabilidade do modelo"
   ]
  },
  {
   "cell_type": "markdown",
   "metadata": {},
   "source": [
    "### Decision Boundary \n",
    "\"Histogram of projects\" by Cherkassky, Vladimir & Dhar, Sauptik. (2010). Simple Method for Interpretation of High-Dimensional Nonlinear SVM Classification Models.. 267–272."
   ]
  },
  {
   "cell_type": "code",
   "execution_count": null,
   "metadata": {},
   "outputs": [],
   "source": [
    "decision_func = pd.DataFrame(clf.decision_function(X_test), columns=condicoes)\n",
    "decision_func['true_label'] = [output_remap[out] for out in y_test]\n",
    "decision_func.hist(bins=30, histtype='stepfilled', by='true_label', alpha = 0.7, legend=True, figsize=(10,10))\n",
    "plt.show()"
   ]
  },
  {
   "cell_type": "code",
   "execution_count": null,
   "metadata": {},
   "outputs": [],
   "source": [
    "from sklearn.inspection import permutation_importance\n",
    "result = permutation_importance(clf, X_train, y_train, n_repeats=10,\n",
    "                                random_state=42)\n",
    "perm_sorted_idx = result.importances_mean.argsort()\n",
    "\n",
    "plt.boxplot(result.importances[perm_sorted_idx][-10:].T, vert=False,\n",
    "            labels=df.columns[perm_sorted_idx][-10:])\n",
    "plt.show()"
   ]
  },
  {
   "cell_type": "code",
   "execution_count": null,
   "metadata": {},
   "outputs": [],
   "source": [
    "from sklearn.ensemble import RandomForestClassifier\n",
    "\n",
    "rf_clf = RandomForestClassifier(n_estimators=100, random_state=42)\n",
    "rf_clf.fit(X_train, y_train)\n",
    "print(\"Accuracy on test data: {:.2f}\".format(clf.score(X_test, y_test)))"
   ]
  },
  {
   "cell_type": "code",
   "execution_count": null,
   "metadata": {},
   "outputs": [],
   "source": [
    "tree_importance_sorted_idx = np.argsort(rf_clf.feature_importances_)\n",
    "tree_indices = np.arange(0, len(rf_clf.feature_importances_)) + 0.5\n",
    "\n",
    "fig, ax = plt.subplots(1, 1, figsize=(6, 24))\n",
    "ax.barh(tree_indices, rf_clf.feature_importances_[tree_importance_sorted_idx], height=0.7)\n",
    "ax.set_yticklabels(df.columns[tree_importance_sorted_idx])\n",
    "ax.set_yticks(tree_indices)\n",
    "ax.set_ylim((0, len(rf_clf.feature_importances_)))"
   ]
  },
  {
   "cell_type": "code",
   "execution_count": null,
   "metadata": {},
   "outputs": [],
   "source": [
    "import shap \n",
    "\n",
    "# print the JS visualization code to the notebook\n",
    "shap.initjs()\n",
    "\n",
    "explainer = shap.TreeExplainer(rf_clf)\n",
    "shap_values = explainer.shap_values(df)"
   ]
  },
  {
   "cell_type": "code",
   "execution_count": null,
   "metadata": {},
   "outputs": [],
   "source": [
    "shap.summary_plot(shap_values, df)"
   ]
  },
  {
   "cell_type": "code",
   "execution_count": null,
   "metadata": {},
   "outputs": [],
   "source": []
  }
 ],
 "metadata": {
  "kernelspec": {
   "display_name": "Python 3",
   "language": "python",
   "name": "python3"
  },
  "language_info": {
   "codemirror_mode": {
    "name": "ipython",
    "version": 3
   },
   "file_extension": ".py",
   "mimetype": "text/x-python",
   "name": "python",
   "nbconvert_exporter": "python",
   "pygments_lexer": "ipython3",
   "version": "3.8.8"
  }
 },
 "nbformat": 4,
 "nbformat_minor": 4
}
