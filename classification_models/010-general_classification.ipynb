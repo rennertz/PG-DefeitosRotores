{
 "cells": [
  {
   "cell_type": "code",
   "execution_count": 15,
   "metadata": {},
   "outputs": [],
   "source": [
    "import pandas as pd\n",
    "import numpy as np\n",
    "import matplotlib.pyplot as plt\n",
    "import seaborn as sns\n",
    "\n",
    "sns.set_theme()"
   ]
  },
  {
   "cell_type": "code",
   "execution_count": 114,
   "metadata": {},
   "outputs": [
    {
     "data": {
      "text/html": [
       "<div>\n",
       "<style scoped>\n",
       "    .dataframe tbody tr th:only-of-type {\n",
       "        vertical-align: middle;\n",
       "    }\n",
       "\n",
       "    .dataframe tbody tr th {\n",
       "        vertical-align: top;\n",
       "    }\n",
       "\n",
       "    .dataframe thead th {\n",
       "        text-align: right;\n",
       "    }\n",
       "</style>\n",
       "<table border=\"1\" class=\"dataframe\">\n",
       "  <thead>\n",
       "    <tr style=\"text-align: right;\">\n",
       "      <th></th>\n",
       "      <th>defeito</th>\n",
       "      <th>severidade</th>\n",
       "      <th>fundamental</th>\n",
       "      <th>ax1_1h</th>\n",
       "      <th>ax1_2h</th>\n",
       "      <th>ax1_3h</th>\n",
       "      <th>ax1_4h</th>\n",
       "      <th>ax1_5h</th>\n",
       "      <th>ax1_entr</th>\n",
       "      <th>ax1_kurt</th>\n",
       "      <th>...</th>\n",
       "      <th>tg2_1h</th>\n",
       "      <th>tg2_2h</th>\n",
       "      <th>tg2_3h</th>\n",
       "      <th>tg2_4h</th>\n",
       "      <th>tg2_5h</th>\n",
       "      <th>tg2_entr</th>\n",
       "      <th>tg2_kurt</th>\n",
       "      <th>tg2_phase</th>\n",
       "      <th>tg2_rms</th>\n",
       "      <th>tg2_vel_rms</th>\n",
       "    </tr>\n",
       "  </thead>\n",
       "  <tbody>\n",
       "    <tr>\n",
       "      <th>0</th>\n",
       "      <td>desalinhamento_horizontal</td>\n",
       "      <td>0.5</td>\n",
       "      <td>12.0240</td>\n",
       "      <td>5.763304</td>\n",
       "      <td>2.303724</td>\n",
       "      <td>4.995631</td>\n",
       "      <td>0.883278</td>\n",
       "      <td>1.165081</td>\n",
       "      <td>4.061837</td>\n",
       "      <td>-0.087284</td>\n",
       "      <td>...</td>\n",
       "      <td>4.103196</td>\n",
       "      <td>1.291663</td>\n",
       "      <td>1.938869</td>\n",
       "      <td>1.691083</td>\n",
       "      <td>0.753967</td>\n",
       "      <td>4.263879</td>\n",
       "      <td>-0.560705</td>\n",
       "      <td>4.658191</td>\n",
       "      <td>30.617686</td>\n",
       "      <td>1.514539</td>\n",
       "    </tr>\n",
       "    <tr>\n",
       "      <th>1</th>\n",
       "      <td>desalinhamento_horizontal</td>\n",
       "      <td>0.5</td>\n",
       "      <td>13.2264</td>\n",
       "      <td>5.743441</td>\n",
       "      <td>0.738770</td>\n",
       "      <td>5.876419</td>\n",
       "      <td>1.065215</td>\n",
       "      <td>1.850058</td>\n",
       "      <td>4.234764</td>\n",
       "      <td>-0.925310</td>\n",
       "      <td>...</td>\n",
       "      <td>4.263214</td>\n",
       "      <td>2.015758</td>\n",
       "      <td>1.673473</td>\n",
       "      <td>0.789208</td>\n",
       "      <td>0.984763</td>\n",
       "      <td>4.235347</td>\n",
       "      <td>-0.563723</td>\n",
       "      <td>4.207117</td>\n",
       "      <td>20.074389</td>\n",
       "      <td>1.412236</td>\n",
       "    </tr>\n",
       "    <tr>\n",
       "      <th>2</th>\n",
       "      <td>desalinhamento_horizontal</td>\n",
       "      <td>0.5</td>\n",
       "      <td>14.2284</td>\n",
       "      <td>6.750044</td>\n",
       "      <td>0.592014</td>\n",
       "      <td>5.932356</td>\n",
       "      <td>1.477220</td>\n",
       "      <td>1.746041</td>\n",
       "      <td>4.248849</td>\n",
       "      <td>-0.825305</td>\n",
       "      <td>...</td>\n",
       "      <td>5.040048</td>\n",
       "      <td>2.353400</td>\n",
       "      <td>1.648283</td>\n",
       "      <td>0.968506</td>\n",
       "      <td>1.023963</td>\n",
       "      <td>4.134431</td>\n",
       "      <td>-0.128050</td>\n",
       "      <td>3.552332</td>\n",
       "      <td>15.136744</td>\n",
       "      <td>1.397344</td>\n",
       "    </tr>\n",
       "    <tr>\n",
       "      <th>3</th>\n",
       "      <td>desalinhamento_horizontal</td>\n",
       "      <td>0.5</td>\n",
       "      <td>15.0300</td>\n",
       "      <td>5.604445</td>\n",
       "      <td>2.197267</td>\n",
       "      <td>3.685863</td>\n",
       "      <td>1.483171</td>\n",
       "      <td>1.631654</td>\n",
       "      <td>4.261627</td>\n",
       "      <td>-0.845252</td>\n",
       "      <td>...</td>\n",
       "      <td>4.424791</td>\n",
       "      <td>1.688596</td>\n",
       "      <td>0.911779</td>\n",
       "      <td>0.626697</td>\n",
       "      <td>0.833591</td>\n",
       "      <td>4.096497</td>\n",
       "      <td>-0.172433</td>\n",
       "      <td>13.136227</td>\n",
       "      <td>15.223511</td>\n",
       "      <td>1.365880</td>\n",
       "    </tr>\n",
       "    <tr>\n",
       "      <th>4</th>\n",
       "      <td>desalinhamento_horizontal</td>\n",
       "      <td>0.5</td>\n",
       "      <td>16.0320</td>\n",
       "      <td>5.655247</td>\n",
       "      <td>1.595719</td>\n",
       "      <td>4.042729</td>\n",
       "      <td>1.852271</td>\n",
       "      <td>25.253904</td>\n",
       "      <td>4.205469</td>\n",
       "      <td>-0.887882</td>\n",
       "      <td>...</td>\n",
       "      <td>5.118254</td>\n",
       "      <td>1.589453</td>\n",
       "      <td>1.078714</td>\n",
       "      <td>0.791082</td>\n",
       "      <td>1.474005</td>\n",
       "      <td>4.175298</td>\n",
       "      <td>-0.306299</td>\n",
       "      <td>12.905109</td>\n",
       "      <td>18.344380</td>\n",
       "      <td>1.193727</td>\n",
       "    </tr>\n",
       "  </tbody>\n",
       "</table>\n",
       "<p>5 rows × 66 columns</p>\n",
       "</div>"
      ],
      "text/plain": [
       "                     defeito  severidade  fundamental    ax1_1h    ax1_2h  \\\n",
       "0  desalinhamento_horizontal         0.5      12.0240  5.763304  2.303724   \n",
       "1  desalinhamento_horizontal         0.5      13.2264  5.743441  0.738770   \n",
       "2  desalinhamento_horizontal         0.5      14.2284  6.750044  0.592014   \n",
       "3  desalinhamento_horizontal         0.5      15.0300  5.604445  2.197267   \n",
       "4  desalinhamento_horizontal         0.5      16.0320  5.655247  1.595719   \n",
       "\n",
       "     ax1_3h    ax1_4h     ax1_5h  ax1_entr  ax1_kurt  ...    tg2_1h    tg2_2h  \\\n",
       "0  4.995631  0.883278   1.165081  4.061837 -0.087284  ...  4.103196  1.291663   \n",
       "1  5.876419  1.065215   1.850058  4.234764 -0.925310  ...  4.263214  2.015758   \n",
       "2  5.932356  1.477220   1.746041  4.248849 -0.825305  ...  5.040048  2.353400   \n",
       "3  3.685863  1.483171   1.631654  4.261627 -0.845252  ...  4.424791  1.688596   \n",
       "4  4.042729  1.852271  25.253904  4.205469 -0.887882  ...  5.118254  1.589453   \n",
       "\n",
       "     tg2_3h    tg2_4h    tg2_5h  tg2_entr  tg2_kurt  tg2_phase    tg2_rms  \\\n",
       "0  1.938869  1.691083  0.753967  4.263879 -0.560705   4.658191  30.617686   \n",
       "1  1.673473  0.789208  0.984763  4.235347 -0.563723   4.207117  20.074389   \n",
       "2  1.648283  0.968506  1.023963  4.134431 -0.128050   3.552332  15.136744   \n",
       "3  0.911779  0.626697  0.833591  4.096497 -0.172433  13.136227  15.223511   \n",
       "4  1.078714  0.791082  1.474005  4.175298 -0.306299  12.905109  18.344380   \n",
       "\n",
       "   tg2_vel_rms  \n",
       "0     1.514539  \n",
       "1     1.412236  \n",
       "2     1.397344  \n",
       "3     1.365880  \n",
       "4     1.193727  \n",
       "\n",
       "[5 rows x 66 columns]"
      ]
     },
     "execution_count": 114,
     "metadata": {},
     "output_type": "execute_result"
    }
   ],
   "source": [
    "df = pd.read_csv('../data.csv')\n",
    "df.pop('rotacao')\n",
    "\n",
    "# exibe fragmento dos dados\n",
    "df.head()"
   ]
  },
  {
   "cell_type": "code",
   "execution_count": 115,
   "metadata": {},
   "outputs": [
    {
     "data": {
      "image/png": "[encoded data removed]",
      "text/plain": [
       "<Figure size 648x216 with 1 Axes>"
      ]
     },
     "metadata": {},
     "output_type": "display_data"
    }
   ],
   "source": [
    "df['defeito'].value_counts()\n",
    "\n",
    "# plota distribuição da população\n",
    "sns.catplot(data=df, y='defeito', kind=\"count\", height=3, aspect=3)\n",
    "plt.title('Frequência da população', fontsize=16)\n",
    "plt.xlabel('Defeitos')\n",
    "plt.ylabel('contagem')\n",
    "plt.show()"
   ]
  },
  {
   "cell_type": "code",
   "execution_count": 116,
   "metadata": {},
   "outputs": [],
   "source": [
    "output_map = {\n",
    "    'normal': 0,\n",
    "    'desbalanceamento': 1,\n",
    "    'desalinhamento_vertical': 2,\n",
    "    'desalinhamento_horizontal': 3,\n",
    "}\n",
    "\n",
    "# armazena output em um array\n",
    "labels = np.array(df['defeito'].map(output_map))"
   ]
  },
  {
   "cell_type": "code",
   "execution_count": 117,
   "metadata": {},
   "outputs": [],
   "source": [
    "# remove a coluna de labels do df original\n",
    "df = df.drop('defeito', axis = 1)\n",
    "\n",
    "# salva a ordem das features\n",
    "feature_list = df.columns\n",
    "\n",
    "# convertendo df para array\n",
    "data = np.array(df)"
   ]
  },
  {
   "cell_type": "markdown",
   "metadata": {},
   "source": [
    "# Modelos"
   ]
  },
  {
   "cell_type": "code",
   "execution_count": 118,
   "metadata": {},
   "outputs": [],
   "source": [
    "from sklearn.model_selection import KFold, cross_val_score, cross_val_predict, GroupKFold, StratifiedKFold\n",
    "\n",
    "kfold = StratifiedKFold(n_splits=8, shuffle=True, random_state=42)"
   ]
  },
  {
   "cell_type": "code",
   "execution_count": 119,
   "metadata": {},
   "outputs": [
    {
     "name": "stdout",
     "output_type": "stream",
     "text": [
      "0.990909090909091 +/- 0.007872958216222171\n"
     ]
    }
   ],
   "source": [
    "from sklearn.svm import SVC\n",
    "\n",
    "model = SVC(kernel='linear')\n",
    "scores = cross_val_score(\n",
    "    estimator= model,\n",
    "    X=data, y=labels,\n",
    "    cv=kfold,\n",
    "    scoring='accuracy'\n",
    ")\n",
    "print(scores.mean(), '+/-', scores.std())"
   ]
  },
  {
   "cell_type": "code",
   "execution_count": 120,
   "metadata": {},
   "outputs": [
    {
     "data": {
      "text/plain": [
       "RFECV(cv=StratifiedKFold(n_splits=8, random_state=42, shuffle=True),\n",
       "      estimator=SVC(kernel='linear'), scoring='accuracy')"
      ]
     },
     "execution_count": 120,
     "metadata": {},
     "output_type": "execute_result"
    }
   ],
   "source": [
    "from sklearn.feature_selection import RFECV\n",
    "\n",
    "min_features_to_select = 1  # Minimum number of features to consider\n",
    "svc = SVC(kernel='linear')\n",
    "\n",
    "rfecv = RFECV(estimator=svc, step=1, cv=kfold,\n",
    "              scoring='accuracy',\n",
    "              min_features_to_select=min_features_to_select)\n",
    "rfecv.fit(data, labels)"
   ]
  },
  {
   "cell_type": "code",
   "execution_count": 121,
   "metadata": {},
   "outputs": [
    {
     "data": {
      "image/png": "[encoded data removed]",
      "text/plain": [
       "<Figure size 432x288 with 1 Axes>"
      ]
     },
     "metadata": {},
     "output_type": "display_data"
    }
   ],
   "source": [
    "plt.figure()\n",
    "plt.xlabel(\"Number of features selected\")\n",
    "plt.ylabel(\"Cross validation score (nb of correct classifications)\")\n",
    "plt.plot(range(min_features_to_select,\n",
    "               len(rfecv.grid_scores_) + min_features_to_select),\n",
    "         rfecv.grid_scores_)\n",
    "plt.show()"
   ]
  },
  {
   "cell_type": "code",
   "execution_count": 129,
   "metadata": {},
   "outputs": [
    {
     "data": {
      "text/plain": [
       "['severidade',\n",
       " 'fundamental',\n",
       " 'ax1_vel_rms',\n",
       " 'ax2_1h',\n",
       " 'ax2_5h',\n",
       " 'ax2_vel_rms',\n",
       " 'microfone_kurt',\n",
       " 'microfone_rms',\n",
       " 'rad1_entr',\n",
       " 'rad1_kurt',\n",
       " 'rad1_rms',\n",
       " 'rad1_vel_rms',\n",
       " 'rad2_1h',\n",
       " 'rad2_4h',\n",
       " 'rad2_5h',\n",
       " 'rad2_kurt',\n",
       " 'tg1_4h',\n",
       " 'tg1_kurt',\n",
       " 'tg1_rms',\n",
       " 'tg2_2h',\n",
       " 'tg2_4h',\n",
       " 'tg2_vel_rms']"
      ]
     },
     "execution_count": 129,
     "metadata": {},
     "output_type": "execute_result"
    }
   ],
   "source": [
    "list(feature_list[rfecv.support_])"
   ]
  },
  {
   "cell_type": "markdown",
   "metadata": {},
   "source": [
    "### Train-Test split"
   ]
  },
  {
   "cell_type": "code",
   "execution_count": 131,
   "metadata": {},
   "outputs": [],
   "source": [
    "from sklearn.model_selection import train_test_split\n",
    "\n",
    "# separa os conjuntos de treino e teste com amostragem estratificada,\n",
    "# logo, mantendo a proporção para cada tipo de defeito\n",
    "X_train, X_test, y_train, y_test = train_test_split(data, labels, test_size = 0.25, stratify=output, random_state=42) \n",
    "\n",
    "model.fit(X_train, y_train)\n",
    "y_predicted = model.predict(X_test)"
   ]
  },
  {
   "cell_type": "code",
   "execution_count": 132,
   "metadata": {},
   "outputs": [
    {
     "data": {
      "text/plain": [
       "array([[12,  0,  0,  0],\n",
       "       [ 0, 83,  0,  0],\n",
       "       [ 1,  0, 73,  2],\n",
       "       [ 1,  0,  0, 48]], dtype=int64)"
      ]
     },
     "execution_count": 132,
     "metadata": {},
     "output_type": "execute_result"
    }
   ],
   "source": [
    "from sklearn.metrics import confusion_matrix\n",
    "\n",
    "confusion_matrix(y_test, y_predicted)"
   ]
  },
  {
   "cell_type": "code",
   "execution_count": null,
   "metadata": {},
   "outputs": [],
   "source": []
  }
 ],
 "metadata": {
  "kernelspec": {
   "display_name": "Python 3",
   "language": "python",
   "name": "python3"
  },
  "language_info": {
   "codemirror_mode": {
    "name": "ipython",
    "version": 3
   },
   "file_extension": ".py",
   "mimetype": "text/x-python",
   "name": "python",
   "nbconvert_exporter": "python",
   "pygments_lexer": "ipython3",
   "version": "3.8.5"
  }
 },
 "nbformat": 4,
 "nbformat_minor": 4
}
