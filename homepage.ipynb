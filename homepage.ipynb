{
 "cells": [
  {
   "cell_type": "markdown",
   "metadata": {},
   "source": [
    "# PG-DefeitosRotores\n",
    "\n",
    "## Visualizações\n",
    "\n",
    "* [Sinais de vibração](data_visualizations/010-signals_data_exploration.ipynb)\n",
    "* [Sinais de vibração - exemplos p/ cada defeito](data_visualizations/012-illustrative_examples.ipynb)\n",
    "* [Sinais de vibração - sinal com falha de leitura](data_visualizations/015-spourious_signal_correction.ipynb)\n",
    "* [Sinais de vibração - plot waterfall](data_visualizations/016-waterfall.ipynb)\n",
    "* [Sinais de vibração - sinais de alarme](data_visualizations/017-fault_detection.ipynb)\n",
    "* [Cacterísticas - correlações com níveis de defeito](data_visualizations/020-correlatoins.ipynb)\n",
    "* [Gráficos desbalanceamento x nível de vibração RMS](data_visualizations/020a-umbalance_investigation.ipynb)\n",
    "\n",
    "## Modelagem\n",
    "\n",
    "* [Modelo geral SVM](classification_models/classification_models)"
   ]
  }
 ],
 "metadata": {
  "kernelspec": {
   "display_name": "Python 3",
   "language": "python",
   "name": "python3"
  },
  "language_info": {
   "codemirror_mode": {
    "name": "ipython",
    "version": 3
   },
   "file_extension": ".py",
   "mimetype": "text/x-python",
   "name": "python",
   "nbconvert_exporter": "python",
   "pygments_lexer": "ipython3",
   "version": "3.8.5"
  }
 },
 "nbformat": 4,
 "nbformat_minor": 4
}
