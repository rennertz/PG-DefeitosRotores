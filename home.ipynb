{
 "cells": [
  {
   "cell_type": "markdown",
   "metadata": {},
   "source": [
    "# PG-DefeitosRotores\n",
    "\n",
    "## Visualizações\n",
    "\n",
    "* [Redução de amostragem e aliasing](https://nbviewer.jupyter.org/github/rennertz/PG-DefeitosRotores/blob/main/data_visualizations/000-downsapling_effect.ipynb)\n",
    "* [Análise de 1 exemplo, tempo e frequência](https://nbviewer.jupyter.org/github/rennertz/PG-DefeitosRotores/blob/main/data_visualizations/010-signals_data_exploration.ipynb)\n",
    "* [Espectro p/ cada defeito](https://nbviewer.jupyter.org/github/rennertz/PG-DefeitosRotores/blob/main/data_visualizations/012-illustrative_examples.ipynb)\n",
    "* [Plots em cascata](https://nbviewer.jupyter.org/github/rennertz/PG-DefeitosRotores/blob/main/data_visualizations/016-waterfall.ipynb)\n",
    "\n",
    "## Modelagem\n",
    "\n",
    "* [Classificador linearSVM](https://nbviewer.jupyter.org/github/rennertz/PG-DefeitosRotores/blob/main/classification_models/classification_models)\n",
    "* [Visualização dos dados e separabilidade](https://nbviewer.jupyter.org/github/rennertz/PG-DefeitosRotores/blob/main/classification_models/040-2d_plots.ipynb)\n",
    "\n",
    "---\n",
    "\n",
    "## Não utilizados no projeto\n",
    "\n",
    "### Regressores\n",
    "\n",
    "* [Regressores do grau de desbalanceamento](https://nbviewer.jupyter.org/github/rennertz/PG-DefeitosRotores/blob/main/data_visualizations/regression_tests/030a-regression%20%28imbalance%29.ipynb)\n",
    "* [Grau de desbalanceamento x RMS da vibração](https://nbviewer.jupyter.org/github/rennertz/PG-DefeitosRotores/blob/main/data_visualizations/020a-umbalance_investigation.ipynb)\n",
    "* [Correlação de features com a severidade dos defeitos](https://nbviewer.jupyter.org/github/rennertz/PG-DefeitosRotores/blob/main/data_visualizations/020-correlatoins.ipynb)\n",
    "\n",
    "### Extra\n",
    "\n",
    "* [Níveis RMS em alarme](https://nbviewer.jupyter.org/github/rennertz/PG-DefeitosRotores/blob/main/data_visualizations/017-fault_detection.ipynb)\n",
    "* [Sinal com problema de leitura (outlier)](https://nbviewer.jupyter.org/github/rennertz/PG-DefeitosRotores/blob/main/data_visualizations/015-spourious_signal_correction.ipynb)"
   ]
  }
 ],
 "metadata": {
  "kernelspec": {
   "display_name": "Python 3",
   "language": "python",
   "name": "python3"
  },
  "language_info": {
   "codemirror_mode": {
    "name": "ipython",
    "version": 3
   },
   "file_extension": ".py",
   "mimetype": "text/x-python",
   "name": "python",
   "nbconvert_exporter": "python",
   "pygments_lexer": "ipython3",
   "version": "3.8.8"
  }
 },
 "nbformat": 4,
 "nbformat_minor": 4
}