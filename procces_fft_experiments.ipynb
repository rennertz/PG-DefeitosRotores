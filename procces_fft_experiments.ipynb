{
 "cells": [
  {
   "cell_type": "code",
   "execution_count": 143,
   "metadata": {},
   "outputs": [
    {
     "name": "stdout",
     "output_type": "stream",
     "text": [
      "Sinal com shape (5000, 8) obtido em 0.15373778343200684 segundos\n",
      "a frequência de aquisição foi reduzida para 1000.0 Hz\n"
     ]
    }
   ],
   "source": [
    "import pandas as pd\n",
    "\n",
    "#biliotecas para extração e visualização do FFT ou Periodogram (PSD) \n",
    "import numpy as np\n",
    "import pylab \n",
    "from scipy import signal\n",
    "import matplotlib.pyplot as plt\n",
    "\n",
    "import time # permite marcar o tempo de execução\n",
    "start_time = time.time()\n",
    "\n",
    "#def extract_fft_from_file(file_adress)\n",
    "\n",
    "# reduz o samplig frequency 'ratio' vezes, tomando apenas 1 a cada 'ratio' sinais\n",
    "ratio = 50\n",
    "sampling_freq=50000/ratio # a ser usado no fft\n",
    "skip=[i for i in range(0,250000) if i%ratio] # poupa apenas as linhas múltiplas de 'ratio' e lista as demais para exclusão\n",
    "\n",
    "signals = pd.read_csv('mafaulda/imbalance/10g/13.9264.csv', header=None, \n",
    "                      names=['ac1rad','ac1ax','ac1tg','ac2rad','ac2ax','ac2tg','tachometer','microphone'],\n",
    "                      skiprows=skip)\n",
    "end_time = time.time()\n",
    "\n",
    "print(\"Sinal com shape {} obtido em {} segundos\".format(signals.shape, end_time-start_time))\n",
    "print(\"a frequência de aquisição foi reduzida para {} Hz\".format(sampling_freq))"
   ]
  },
  {
   "cell_type": "markdown",
   "metadata": {},
   "source": [
    "## FFT via np.fft (sinal escolhido)"
   ]
  },
  {
   "cell_type": "code",
   "execution_count": 151,
   "metadata": {},
   "outputs": [
    {
     "name": "stdout",
     "output_type": "stream",
     "text": [
      "O sinal é real, logo apenas metade da transformada é necessária. São 2501 pontos \n",
      "A frequência fundamental do sinal é 13.6272 Hz\n"
     ]
    },
    {
     "data": {
      "image/png": "[encoded data removed]",
      "text/plain": [
       "<Figure size 432x288 with 1 Axes>"
      ]
     },
     "metadata": {
      "needs_background": "light"
     },
     "output_type": "display_data"
    }
   ],
   "source": [
    "complex_fft = np.fft.rfft(signals['ac1rad'])\n",
    "real_fft = np.abs(complex_fft)\n",
    "freq_axis = np.linspace(0, sampling_freq/2+1, len(real_fft)) # a frequência de Nyquist é sampling_freq/2\n",
    "\n",
    "print(\"O sinal é real, logo apenas metade da transformada é necessária. São {} pontos \".format(real_fft.shape[0]))\n",
    "fundamental = freq_axis[real_fft.argmax()]\n",
    "print('A frequência fundamental do sinal é {} Hz'.format(fundamental)) #frequencia fundamental\n",
    "\n",
    "plt.plot(freq_axis,real_fft)\n",
    "plt.show()"
   ]
  },
  {
   "cell_type": "code",
   "execution_count": 146,
   "metadata": {},
   "outputs": [
    {
     "data": {
      "image/png": "[encoded data removed]",
      "text/plain": [
       "<Figure size 432x288 with 1 Axes>"
      ]
     },
     "metadata": {
      "needs_background": "light"
     },
     "output_type": "display_data"
    },
    {
     "data": {
      "text/html": [
       "<div>\n",
       "<style scoped>\n",
       "    .dataframe tbody tr th:only-of-type {\n",
       "        vertical-align: middle;\n",
       "    }\n",
       "\n",
       "    .dataframe tbody tr th {\n",
       "        vertical-align: top;\n",
       "    }\n",
       "\n",
       "    .dataframe thead th {\n",
       "        text-align: right;\n",
       "    }\n",
       "</style>\n",
       "<table border=\"1\" class=\"dataframe\">\n",
       "  <thead>\n",
       "    <tr style=\"text-align: right;\">\n",
       "      <th></th>\n",
       "      <th>freq</th>\n",
       "      <th>harmonic</th>\n",
       "      <th>amplitude</th>\n",
       "    </tr>\n",
       "  </thead>\n",
       "  <tbody>\n",
       "    <tr>\n",
       "      <th>4</th>\n",
       "      <td>0.601</td>\n",
       "      <td>0.044</td>\n",
       "      <td>518.789</td>\n",
       "    </tr>\n",
       "    <tr>\n",
       "      <th>1</th>\n",
       "      <td>1.002</td>\n",
       "      <td>0.074</td>\n",
       "      <td>846.560</td>\n",
       "    </tr>\n",
       "    <tr>\n",
       "      <th>2</th>\n",
       "      <td>5.010</td>\n",
       "      <td>0.368</td>\n",
       "      <td>656.763</td>\n",
       "    </tr>\n",
       "    <tr>\n",
       "      <th>0</th>\n",
       "      <td>13.627</td>\n",
       "      <td>1.000</td>\n",
       "      <td>1,094.650</td>\n",
       "    </tr>\n",
       "    <tr>\n",
       "      <th>3</th>\n",
       "      <td>27.254</td>\n",
       "      <td>2.000</td>\n",
       "      <td>537.047</td>\n",
       "    </tr>\n",
       "  </tbody>\n",
       "</table>\n",
       "</div>"
      ],
      "text/plain": [
       "    freq  harmonic  amplitude\n",
       "4  0.601     0.044    518.789\n",
       "1  1.002     0.074    846.560\n",
       "2  5.010     0.368    656.763\n",
       "0 13.627     1.000  1,094.650\n",
       "3 27.254     2.000    537.047"
      ]
     },
     "execution_count": 146,
     "metadata": {},
     "output_type": "execute_result"
    }
   ],
   "source": [
    "num_max = 5 # limiar de seleção\n",
    "temp = np.argpartition(-real_fft, num_max) # ordenando parte dos sinais\n",
    "biggest_args = temp[:num_max] # extraindo os índices dos maiores valores de amplitude\n",
    "\n",
    "greatest_values = pd.DataFrame({'freq':freq_axis[biggest_args], \n",
    "                                'harmonic': freq_axis[biggest_args]/fundamental,\n",
    "                                'amplitude':real_fft[biggest_args]})\n",
    "\n",
    "greatest_values.sort_values('amplitude', ascending=False, ignore_index=True, inplace=True) # organiza os índices decrescendo \n",
    "                                                                                           # amplitude do sinal\n",
    "\n",
    "pd.options.display.float_format = '{:,.3f}'.format\n",
    "\n",
    "\n",
    "# plot com zoom\n",
    "max_freq = 100\n",
    "plt.plot(freq_axis[:max_freq*5], real_fft[:max_freq*5], \n",
    "         list(greatest_values['freq']), list(greatest_values['amplitude']), 'o')\n",
    "plt.show()\n",
    "\n",
    "# mostra tabela\n",
    "greatest_values.sort_values('harmonic') # exibe na ordem de HARMONICOS crescentes\n",
    "#greatest_values  # exibe na ordem de AMPLITUDES decrescentes"
   ]
  },
  {
   "cell_type": "code",
   "execution_count": null,
   "metadata": {},
   "outputs": [],
   "source": []
  }
 ],
 "metadata": {
  "kernelspec": {
   "display_name": "Python 3",
   "language": "python",
   "name": "python3"
  },
  "language_info": {
   "codemirror_mode": {
    "name": "ipython",
    "version": 3
   },
   "file_extension": ".py",
   "mimetype": "text/x-python",
   "name": "python",
   "nbconvert_exporter": "python",
   "pygments_lexer": "ipython3",
   "version": "3.8.3"
  }
 },
 "nbformat": 4,
 "nbformat_minor": 4
}
