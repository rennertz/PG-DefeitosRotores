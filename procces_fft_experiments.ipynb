{
 "cells": [
  {
   "cell_type": "code",
   "execution_count": 18,
   "metadata": {},
   "outputs": [
    {
     "data": {
      "text/plain": [
       "(250000, 8)"
      ]
     },
     "execution_count": 18,
     "metadata": {},
     "output_type": "execute_result"
    }
   ],
   "source": [
    "import pandas as pd\n",
    "import numpy as np\n",
    "import matplotlib.pyplot as plt\n",
    "\n",
    "#def extract_fft_from_file(file_adress)\n",
    "\n",
    "signals = pd.read_csv('mafaulda/horizontal-misalignment/0.5mm/12.288.csv', header=None, \n",
    "\tnames=['ac1rad','ac1ax','ac1tg','ac2rad','ac2ax','ac2tg','tachometer','microphone'])\n",
    "\n",
    "signals.shape"
   ]
  },
  {
   "cell_type": "code",
   "execution_count": 44,
   "metadata": {},
   "outputs": [
    {
     "data": {
      "text/plain": [
       "(25000, 8)"
      ]
     },
     "execution_count": 44,
     "metadata": {},
     "output_type": "execute_result"
    }
   ],
   "source": [
    "sampling_freq = 50000\n",
    "\n",
    "# reduz o samplig frequency de 50kHz para 5kHz, tomando apenas 1 a cada 10 sinais\n",
    "ratio = 10\n",
    "reducted_signal = signals.iloc[[ratio*i for i in range(round(250000/ratio))],:]\n",
    "\n",
    "reducted_signal.shape"
   ]
  },
  {
   "cell_type": "code",
   "execution_count": 45,
   "metadata": {},
   "outputs": [
    {
     "data": {
      "image/png": "[encoded data removed]",
      "text/plain": [
       "<Figure size 432x288 with 1 Axes>"
      ]
     },
     "metadata": {
      "needs_background": "light"
     },
     "output_type": "display_data"
    },
    {
     "name": "stdout",
     "output_type": "stream",
     "text": [
      "(12501,)\n"
     ]
    }
   ],
   "source": [
    "complex_fft = np.fft.rfft(reducted_signal['ac1rad'])\n",
    "real_fft = np.abs(complex_fft)\n",
    "\n",
    "plt.plot(real_fft)\n",
    "plt.show()\n",
    "print(fft.shape)"
   ]
  },
  {
   "cell_type": "markdown",
   "metadata": {},
   "source": [
    "Notamos que o eixo x exibe o índice de cada valor. Para fornecer o eixo em frequência, consideramos que  para 5kHz a frequência de Nyquist é 5/2 = 2.5 kHz"
   ]
  },
  {
   "cell_type": "code",
   "execution_count": 41,
   "metadata": {},
   "outputs": [
    {
     "data": {
      "image/png": "[encoded data removed]",
      "text/plain": [
       "<Figure size 432x288 with 1 Axes>"
      ]
     },
     "metadata": {
      "needs_background": "light"
     },
     "output_type": "display_data"
    }
   ],
   "source": [
    "freq_axis = np.linspace(0,2500, 12501)\n",
    "\n",
    "max_freq = 100\n",
    "plt.plot(freq_axis[:max_freq*5], real_fft[:max_freq*5])\n",
    "plt.show()"
   ]
  },
  {
   "cell_type": "code",
   "execution_count": 46,
   "metadata": {},
   "outputs": [
    {
     "data": {
      "text/plain": [
       "12.0"
      ]
     },
     "execution_count": 46,
     "metadata": {},
     "output_type": "execute_result"
    }
   ],
   "source": [
    "freq_axis[real_fft.argmax()] #frequencia fundamental"
   ]
  },
  {
   "cell_type": "code",
   "execution_count": 68,
   "metadata": {},
   "outputs": [
    {
     "data": {
      "text/html": [
       "<div>\n",
       "<style scoped>\n",
       "    .dataframe tbody tr th:only-of-type {\n",
       "        vertical-align: middle;\n",
       "    }\n",
       "\n",
       "    .dataframe tbody tr th {\n",
       "        vertical-align: top;\n",
       "    }\n",
       "\n",
       "    .dataframe thead th {\n",
       "        text-align: right;\n",
       "    }\n",
       "</style>\n",
       "<table border=\"1\" class=\"dataframe\">\n",
       "  <thead>\n",
       "    <tr style=\"text-align: right;\">\n",
       "      <th></th>\n",
       "      <th>freq</th>\n",
       "      <th>value</th>\n",
       "    </tr>\n",
       "  </thead>\n",
       "  <tbody>\n",
       "    <tr>\n",
       "      <th>0</th>\n",
       "      <td>12.0</td>\n",
       "      <td>11820.582701</td>\n",
       "    </tr>\n",
       "    <tr>\n",
       "      <th>1</th>\n",
       "      <td>35.8</td>\n",
       "      <td>10409.239115</td>\n",
       "    </tr>\n",
       "    <tr>\n",
       "      <th>2</th>\n",
       "      <td>23.8</td>\n",
       "      <td>8842.121568</td>\n",
       "    </tr>\n",
       "    <tr>\n",
       "      <th>3</th>\n",
       "      <td>47.8</td>\n",
       "      <td>8762.920242</td>\n",
       "    </tr>\n",
       "    <tr>\n",
       "      <th>4</th>\n",
       "      <td>24.0</td>\n",
       "      <td>7100.563212</td>\n",
       "    </tr>\n",
       "    <tr>\n",
       "      <th>5</th>\n",
       "      <td>59.8</td>\n",
       "      <td>5499.889268</td>\n",
       "    </tr>\n",
       "    <tr>\n",
       "      <th>6</th>\n",
       "      <td>11.8</td>\n",
       "      <td>4555.981990</td>\n",
       "    </tr>\n",
       "    <tr>\n",
       "      <th>7</th>\n",
       "      <td>71.6</td>\n",
       "      <td>3958.735456</td>\n",
       "    </tr>\n",
       "    <tr>\n",
       "      <th>8</th>\n",
       "      <td>59.6</td>\n",
       "      <td>3764.457163</td>\n",
       "    </tr>\n",
       "    <tr>\n",
       "      <th>9</th>\n",
       "      <td>36.0</td>\n",
       "      <td>2890.374062</td>\n",
       "    </tr>\n",
       "    <tr>\n",
       "      <th>10</th>\n",
       "      <td>83.6</td>\n",
       "      <td>2812.039245</td>\n",
       "    </tr>\n",
       "    <tr>\n",
       "      <th>11</th>\n",
       "      <td>71.8</td>\n",
       "      <td>2744.202424</td>\n",
       "    </tr>\n",
       "    <tr>\n",
       "      <th>12</th>\n",
       "      <td>23.6</td>\n",
       "      <td>2740.316375</td>\n",
       "    </tr>\n",
       "    <tr>\n",
       "      <th>13</th>\n",
       "      <td>24.2</td>\n",
       "      <td>2720.847308</td>\n",
       "    </tr>\n",
       "    <tr>\n",
       "      <th>14</th>\n",
       "      <td>12.2</td>\n",
       "      <td>2717.557031</td>\n",
       "    </tr>\n",
       "    <tr>\n",
       "      <th>15</th>\n",
       "      <td>47.6</td>\n",
       "      <td>2533.379066</td>\n",
       "    </tr>\n",
       "    <tr>\n",
       "      <th>16</th>\n",
       "      <td>35.6</td>\n",
       "      <td>2368.095710</td>\n",
       "    </tr>\n",
       "    <tr>\n",
       "      <th>17</th>\n",
       "      <td>23.4</td>\n",
       "      <td>2253.590800</td>\n",
       "    </tr>\n",
       "    <tr>\n",
       "      <th>18</th>\n",
       "      <td>48.0</td>\n",
       "      <td>2104.739006</td>\n",
       "    </tr>\n",
       "    <tr>\n",
       "      <th>19</th>\n",
       "      <td>60.0</td>\n",
       "      <td>1940.382372</td>\n",
       "    </tr>\n",
       "  </tbody>\n",
       "</table>\n",
       "</div>"
      ],
      "text/plain": [
       "    freq         value\n",
       "0   12.0  11820.582701\n",
       "1   35.8  10409.239115\n",
       "2   23.8   8842.121568\n",
       "3   47.8   8762.920242\n",
       "4   24.0   7100.563212\n",
       "5   59.8   5499.889268\n",
       "6   11.8   4555.981990\n",
       "7   71.6   3958.735456\n",
       "8   59.6   3764.457163\n",
       "9   36.0   2890.374062\n",
       "10  83.6   2812.039245\n",
       "11  71.8   2744.202424\n",
       "12  23.6   2740.316375\n",
       "13  24.2   2720.847308\n",
       "14  12.2   2717.557031\n",
       "15  47.6   2533.379066\n",
       "16  35.6   2368.095710\n",
       "17  23.4   2253.590800\n",
       "18  48.0   2104.739006\n",
       "19  60.0   1940.382372"
      ]
     },
     "execution_count": 68,
     "metadata": {},
     "output_type": "execute_result"
    }
   ],
   "source": [
    "# encontrando os 20 maiores valores de amplitude\n",
    "temp = np.argpartition(-real_fft, 20)\n",
    "biggest_args = temp[:20]\n",
    "\n",
    "greatest_values = pd.DataFrame({'freq':freq_axis[biggest_args], \n",
    "                                'value':real_fft[biggest_args]})\n",
    "greatest_values.sort_values('value', ascending=False, ignore_index=True, inplace=True)\n",
    "greatest_values"
   ]
  },
  {
   "cell_type": "code",
   "execution_count": 84,
   "metadata": {},
   "outputs": [],
   "source": [
    "greatest_values['fundamental_multiple'] = greatest_values['freq']/greatest_values.iloc[0,0]"
   ]
  },
  {
   "cell_type": "code",
   "execution_count": 88,
   "metadata": {},
   "outputs": [
    {
     "data": {
      "text/html": [
       "<div>\n",
       "<style scoped>\n",
       "    .dataframe tbody tr th:only-of-type {\n",
       "        vertical-align: middle;\n",
       "    }\n",
       "\n",
       "    .dataframe tbody tr th {\n",
       "        vertical-align: top;\n",
       "    }\n",
       "\n",
       "    .dataframe thead th {\n",
       "        text-align: right;\n",
       "    }\n",
       "</style>\n",
       "<table border=\"1\" class=\"dataframe\">\n",
       "  <thead>\n",
       "    <tr style=\"text-align: right;\">\n",
       "      <th></th>\n",
       "      <th>freq</th>\n",
       "      <th>value</th>\n",
       "      <th>fundamental_multiple</th>\n",
       "    </tr>\n",
       "  </thead>\n",
       "  <tbody>\n",
       "    <tr>\n",
       "      <th>6</th>\n",
       "      <td>11.80</td>\n",
       "      <td>4,555.98</td>\n",
       "      <td>0.98</td>\n",
       "    </tr>\n",
       "    <tr>\n",
       "      <th>0</th>\n",
       "      <td>12.00</td>\n",
       "      <td>11,820.58</td>\n",
       "      <td>1.00</td>\n",
       "    </tr>\n",
       "    <tr>\n",
       "      <th>14</th>\n",
       "      <td>12.20</td>\n",
       "      <td>2,717.56</td>\n",
       "      <td>1.02</td>\n",
       "    </tr>\n",
       "    <tr>\n",
       "      <th>17</th>\n",
       "      <td>23.40</td>\n",
       "      <td>2,253.59</td>\n",
       "      <td>1.95</td>\n",
       "    </tr>\n",
       "    <tr>\n",
       "      <th>12</th>\n",
       "      <td>23.60</td>\n",
       "      <td>2,740.32</td>\n",
       "      <td>1.97</td>\n",
       "    </tr>\n",
       "    <tr>\n",
       "      <th>2</th>\n",
       "      <td>23.80</td>\n",
       "      <td>8,842.12</td>\n",
       "      <td>1.98</td>\n",
       "    </tr>\n",
       "    <tr>\n",
       "      <th>4</th>\n",
       "      <td>24.00</td>\n",
       "      <td>7,100.56</td>\n",
       "      <td>2.00</td>\n",
       "    </tr>\n",
       "    <tr>\n",
       "      <th>13</th>\n",
       "      <td>24.20</td>\n",
       "      <td>2,720.85</td>\n",
       "      <td>2.02</td>\n",
       "    </tr>\n",
       "    <tr>\n",
       "      <th>16</th>\n",
       "      <td>35.60</td>\n",
       "      <td>2,368.10</td>\n",
       "      <td>2.97</td>\n",
       "    </tr>\n",
       "    <tr>\n",
       "      <th>1</th>\n",
       "      <td>35.80</td>\n",
       "      <td>10,409.24</td>\n",
       "      <td>2.98</td>\n",
       "    </tr>\n",
       "    <tr>\n",
       "      <th>9</th>\n",
       "      <td>36.00</td>\n",
       "      <td>2,890.37</td>\n",
       "      <td>3.00</td>\n",
       "    </tr>\n",
       "    <tr>\n",
       "      <th>15</th>\n",
       "      <td>47.60</td>\n",
       "      <td>2,533.38</td>\n",
       "      <td>3.97</td>\n",
       "    </tr>\n",
       "    <tr>\n",
       "      <th>3</th>\n",
       "      <td>47.80</td>\n",
       "      <td>8,762.92</td>\n",
       "      <td>3.98</td>\n",
       "    </tr>\n",
       "    <tr>\n",
       "      <th>18</th>\n",
       "      <td>48.00</td>\n",
       "      <td>2,104.74</td>\n",
       "      <td>4.00</td>\n",
       "    </tr>\n",
       "    <tr>\n",
       "      <th>8</th>\n",
       "      <td>59.60</td>\n",
       "      <td>3,764.46</td>\n",
       "      <td>4.97</td>\n",
       "    </tr>\n",
       "    <tr>\n",
       "      <th>5</th>\n",
       "      <td>59.80</td>\n",
       "      <td>5,499.89</td>\n",
       "      <td>4.98</td>\n",
       "    </tr>\n",
       "    <tr>\n",
       "      <th>19</th>\n",
       "      <td>60.00</td>\n",
       "      <td>1,940.38</td>\n",
       "      <td>5.00</td>\n",
       "    </tr>\n",
       "    <tr>\n",
       "      <th>7</th>\n",
       "      <td>71.60</td>\n",
       "      <td>3,958.74</td>\n",
       "      <td>5.97</td>\n",
       "    </tr>\n",
       "    <tr>\n",
       "      <th>11</th>\n",
       "      <td>71.80</td>\n",
       "      <td>2,744.20</td>\n",
       "      <td>5.98</td>\n",
       "    </tr>\n",
       "    <tr>\n",
       "      <th>10</th>\n",
       "      <td>83.60</td>\n",
       "      <td>2,812.04</td>\n",
       "      <td>6.97</td>\n",
       "    </tr>\n",
       "  </tbody>\n",
       "</table>\n",
       "</div>"
      ],
      "text/plain": [
       "    freq     value  fundamental_multiple\n",
       "6  11.80  4,555.98                  0.98\n",
       "0  12.00 11,820.58                  1.00\n",
       "14 12.20  2,717.56                  1.02\n",
       "17 23.40  2,253.59                  1.95\n",
       "12 23.60  2,740.32                  1.97\n",
       "2  23.80  8,842.12                  1.98\n",
       "4  24.00  7,100.56                  2.00\n",
       "13 24.20  2,720.85                  2.02\n",
       "16 35.60  2,368.10                  2.97\n",
       "1  35.80 10,409.24                  2.98\n",
       "9  36.00  2,890.37                  3.00\n",
       "15 47.60  2,533.38                  3.97\n",
       "3  47.80  8,762.92                  3.98\n",
       "18 48.00  2,104.74                  4.00\n",
       "8  59.60  3,764.46                  4.97\n",
       "5  59.80  5,499.89                  4.98\n",
       "19 60.00  1,940.38                  5.00\n",
       "7  71.60  3,958.74                  5.97\n",
       "11 71.80  2,744.20                  5.98\n",
       "10 83.60  2,812.04                  6.97"
      ]
     },
     "execution_count": 88,
     "metadata": {},
     "output_type": "execute_result"
    }
   ],
   "source": [
    "pd.options.display.float_format = '{:,.2f}'.format\n",
    "greatest_values.sort_values('freq')"
   ]
  }
 ],
 "metadata": {
  "kernelspec": {
   "display_name": "Python 3",
   "language": "python",
   "name": "python3"
  },
  "language_info": {
   "codemirror_mode": {
    "name": "ipython",
    "version": 3
   },
   "file_extension": ".py",
   "mimetype": "text/x-python",
   "name": "python",
   "nbconvert_exporter": "python",
   "pygments_lexer": "ipython3",
   "version": "3.8.3"
  }
 },
 "nbformat": 4,
 "nbformat_minor": 4
}
