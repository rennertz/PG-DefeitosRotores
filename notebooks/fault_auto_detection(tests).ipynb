{
 "cells": [
  {
   "cell_type": "code",
   "execution_count": 2,
   "metadata": {},
   "outputs": [],
   "source": [
    "import pandas as pd\n",
    "\n",
    "#biliotecas para extração e visualização do FFT ou Periodogram (PSD) \n",
    "import numpy as np\n",
    "import matplotlib.pyplot as plt"
   ]
  },
  {
   "cell_type": "code",
   "execution_count": 3,
   "metadata": {},
   "outputs": [
    {
     "name": "stdout",
     "output_type": "stream",
     "text": [
      "<class 'pandas.core.frame.DataFrame'>\n",
      "RangeIndex: 880 entries, 0 to 879\n",
      "Data columns (total 27 columns):\n",
      " #   Column         Non-Null Count  Dtype  \n",
      "---  ------         --------------  -----  \n",
      " 0   defect_type    880 non-null    object \n",
      " 1   rot_vel        880 non-null    float64\n",
      " 2   ac1ax_1h       880 non-null    float64\n",
      " 3   ac1ax_2h       880 non-null    float64\n",
      " 4   ac1ax_3h       880 non-null    float64\n",
      " 5   ac1rad_1h      880 non-null    float64\n",
      " 6   ac1rad_2h      880 non-null    float64\n",
      " 7   ac1rad_3h      880 non-null    float64\n",
      " 8   ac1tg_1h       880 non-null    float64\n",
      " 9   ac1tg_2h       880 non-null    float64\n",
      " 10  ac1tg_3h       880 non-null    float64\n",
      " 11  ac2ax_1h       880 non-null    float64\n",
      " 12  ac2ax_2h       880 non-null    float64\n",
      " 13  ac2ax_3h       880 non-null    float64\n",
      " 14  ac2rad_1h      880 non-null    float64\n",
      " 15  ac2rad_2h      880 non-null    float64\n",
      " 16  ac2rad_3h      880 non-null    float64\n",
      " 17  ac2tg_1h       880 non-null    float64\n",
      " 18  ac2tg_2h       880 non-null    float64\n",
      " 19  ac2tg_3h       880 non-null    float64\n",
      " 20  fundamental    880 non-null    float64\n",
      " 21  microphone_1h  880 non-null    float64\n",
      " 22  microphone_2h  880 non-null    float64\n",
      " 23  microphone_3h  880 non-null    float64\n",
      " 24  hor_mis        197 non-null    float64\n",
      " 25  ver_mis        301 non-null    float64\n",
      " 26  imbalance      333 non-null    float64\n",
      "dtypes: float64(26), object(1)\n",
      "memory usage: 185.8+ KB\n"
     ]
    }
   ],
   "source": [
    "df = pd.read_csv('data.csv')\n",
    "df.info()"
   ]
  },
  {
   "cell_type": "markdown",
   "metadata": {},
   "source": [
    "### Provando a precisão da velocidade obtida pelo FFT do tacômetro"
   ]
  },
  {
   "cell_type": "code",
   "execution_count": 8,
   "metadata": {},
   "outputs": [
    {
     "data": {
      "image/png": "[encoded data removed]",
      "text/plain": [
       "<Figure size 432x288 with 1 Axes>"
      ]
     },
     "metadata": {
      "needs_background": "light"
     },
     "output_type": "display_data"
    }
   ],
   "source": [
    "plt.hist(df['rot_vel']-df['fundamental'],20)\n",
    "plt.title('Distribuição do erro entre velocidades de rotação fornecida e detectada \\n(diferenças menores que 2Hz, distribuição uniforme)')\n",
    "plt.show()"
   ]
  },
  {
   "cell_type": "code",
   "execution_count": null,
   "metadata": {},
   "outputs": [],
   "source": []
  }
 ],
 "metadata": {
  "kernelspec": {
   "display_name": "Python 3",
   "language": "python",
   "name": "python3"
  },
  "language_info": {
   "codemirror_mode": {
    "name": "ipython",
    "version": 3
   },
   "file_extension": ".py",
   "mimetype": "text/x-python",
   "name": "python",
   "nbconvert_exporter": "python",
   "pygments_lexer": "ipython3",
   "version": "3.8.3"
  }
 },
 "nbformat": 4,
 "nbformat_minor": 4
}
